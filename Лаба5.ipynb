{
  "cells": [
    {
      "cell_type": "markdown",
      "metadata": {
        "id": "view-in-github",
        "colab_type": "text"
      },
      "source": [
        "<a href=\"https://colab.research.google.com/github/kirnaq/Analysis/blob/main/%D0%9B%D0%B0%D0%B1%D0%B05.ipynb\" target=\"_parent\"><img src=\"https://colab.research.google.com/assets/colab-badge.svg\" alt=\"Open In Colab\"/></a>"
      ]
    },
    {
      "cell_type": "markdown",
      "metadata": {
        "toc": true,
        "id": "4rUCDa7RZbVy"
      },
      "source": [
        "<h1>Table of Contents<span class=\"tocSkip\"></span></h1>\n",
        "<div class=\"toc\"><ul class=\"toc-item\"><li><span><a href=\"#Обработка-и-анализ-данных-в-Numpy-массивах\" data-toc-modified-id=\"Обработка-и-анализ-данных-в-Numpy-массивах-1\"><span class=\"toc-item-num\">1&nbsp;&nbsp;</span>Обработка и анализ данных в Numpy-массивах</a></span></li></ul></div>"
      ]
    },
    {
      "cell_type": "markdown",
      "metadata": {
        "id": "8BkeOYrXZbV3"
      },
      "source": [
        "\n",
        "\n",
        "\n",
        "# Обработка и анализ данных в Numpy-массивах"
      ]
    },
    {
      "cell_type": "markdown",
      "metadata": {
        "id": "lKgbDzr5ZbV4"
      },
      "source": [
        "<p style=\"font-size:125%; color:#119988; background-color:#EEE\">Задание 1</p>\n",
        "\n",
        "Дано: списки `a,b=[1,1,1],[3,3,3]`\n",
        "\n",
        "Создать одномерные массивы A и B из списков а и b.\n",
        "\n",
        "Вычислить выражение $-((B-А)*(B/2))$"
      ]
    },
    {
      "cell_type": "code",
      "execution_count": null,
      "metadata": {
        "id": "fUcucEj6ZbV5"
      },
      "outputs": [],
      "source": [
        "import numpy as np"
      ]
    },
    {
      "cell_type": "code",
      "execution_count": null,
      "metadata": {
        "colab": {
          "base_uri": "https://localhost:8080/"
        },
        "id": "G444qDEyZbV7",
        "outputId": "81d4c9cc-fddf-4e8d-99e7-4ce0320a6e0f"
      },
      "outputs": [
        {
          "output_type": "stream",
          "name": "stdout",
          "text": [
            "Результат: [-3. -3. -3.]\n"
          ]
        }
      ],
      "source": [
        "\n",
        "a = [1, 1, 1]\n",
        "b = [3, 3, 3]\n",
        "\n",
        "# Создание массивов A и B из списков\n",
        "A = np.array(a)\n",
        "B = np.array(b)\n",
        "\n",
        "result = -((B - A) * (B / 2))\n",
        "\n",
        "print(\"Результат:\", result)\n"
      ]
    },
    {
      "cell_type": "markdown",
      "metadata": {
        "id": "KKdrxlr5ZbV8"
      },
      "source": [
        "<p style=\"font-size:125%; color:#119988; background-color:#EEE\">Задание 2</p>\n",
        "\n",
        "Используя как можно меньше операций в исходном массиве \"шахматная доска\" np.zeros((8,8)), добиться расстановки кодов \"шахматных фигур\".\n",
        "\n",
        "Ожидаемый результат:\n",
        "```\n",
        "[[-4., -3., -2., -6., -5., -2., -3., -4.],\n",
        " [-1., -1., -1., -1., -1., -1., -1., -1.],\n",
        " [0., 0., 0., 0., 0., 0., 0., 0.],\n",
        " [0., 0., 0., 0., 0., 0., 0., 0.],\n",
        " [0., 0., 0., 0., 0., 0., 0., 0.],\n",
        " [0., 0., 0., 0., 0., 0., 0., 0.],\n",
        " [1., 1., 1., 1., 1., 1., 1., 1.],\n",
        " [4., 3., 2., 6., 5., 2., 3., 4.]]\n",
        " ```"
      ]
    },
    {
      "cell_type": "code",
      "execution_count": null,
      "metadata": {
        "colab": {
          "base_uri": "https://localhost:8080/"
        },
        "id": "X3d7Q4guZbV9",
        "outputId": "90ae39c8-5ca4-4683-cfb3-c36361bf1755"
      },
      "outputs": [
        {
          "output_type": "stream",
          "name": "stdout",
          "text": [
            "[[-4. -3. -2. -6. -5. -2. -3. -4.]\n",
            " [-1. -1. -1. -1. -1. -1. -1. -1.]\n",
            " [ 0.  0.  0.  0.  0.  0.  0.  0.]\n",
            " [ 0.  0.  0.  0.  0.  0.  0.  0.]\n",
            " [ 0.  0.  0.  0.  0.  0.  0.  0.]\n",
            " [ 0.  0.  0.  0.  0.  0.  0.  0.]\n",
            " [ 1.  1.  1.  1.  1.  1.  1.  1.]\n",
            " [ 4.  3.  2.  6.  5.  2.  3.  4.]]\n"
          ]
        }
      ],
      "source": [
        "# Создаем пустую шахматную доску 8x8\n",
        "chessboard = np.zeros((8, 8))\n",
        "\n",
        "# Расставляем коды шахматных фигур\n",
        "chessboard[0, :] = [-4, -3, -2, -6, -5, -2, -3, -4]\n",
        "chessboard[1, :] = [-1] * 8\n",
        "chessboard[6, :] = [1] * 8\n",
        "chessboard[7, :] = [4, 3, 2, 6, 5, 2, 3, 4]\n",
        "\n",
        "print(chessboard)\n"
      ]
    },
    {
      "cell_type": "markdown",
      "metadata": {
        "id": "D2gOfKP7ZbV-"
      },
      "source": [
        "<p style=\"font-size:125%; color:#119988; background-color:#EEE\">Задание 3</p>\n",
        "\n",
        "Средствами NumPy рассчитать произведения четных чисел от 2 до 20 на ближайшие к ним бОльшие нечетные числа"
      ]
    },
    {
      "cell_type": "code",
      "execution_count": null,
      "metadata": {
        "colab": {
          "base_uri": "https://localhost:8080/"
        },
        "id": "28v6bfGFZbV-",
        "outputId": "39d82f70-d3f2-476e-bfd2-b0fb9706d053"
      },
      "outputs": [
        {
          "output_type": "stream",
          "name": "stdout",
          "text": [
            "[  6  20  42  72 110 156 210 272 342 420]\n"
          ]
        }
      ],
      "source": [
        "# Создаем массив четных чисел от 2 до 20\n",
        "even_numbers = np.arange(2, 21, 2)\n",
        "\n",
        "# Вычисляем ближайшие к четным числам большие нечетные числа\n",
        "closest_odd_numbers = even_numbers + 1\n",
        "\n",
        "# Вычисляем произведение четных чисел на ближайшие большие нечетные числа\n",
        "result = even_numbers * closest_odd_numbers\n",
        "\n",
        "# Выводим результат\n",
        "print(result)\n"
      ]
    },
    {
      "cell_type": "markdown",
      "metadata": {
        "id": "XS_HahdTZbV_"
      },
      "source": [
        "<p style=\"font-size:125%; color:#119988; background-color:#EEE\">Задание 4</p>\n",
        "\n",
        "Сгенерировать двумерный массив *arr* размерности (4, 7), состоящий из случайных действительных чисел, равномерно распределенных в дипазоне от 0 до 20. Нормализовать значения массива так, что после нормализации максимальный элемент масива будет равен 1.0, минимальный 0.0. Значения округлить (с помощью `np.round()`) до четырех десятичных знаков."
      ]
    },
    {
      "cell_type": "code",
      "execution_count": null,
      "metadata": {
        "colab": {
          "base_uri": "https://localhost:8080/"
        },
        "id": "BneCWTh0ZbV_",
        "outputId": "7301091d-20fd-4902-f09f-dbffd1ebe09b"
      },
      "outputs": [
        {
          "output_type": "stream",
          "name": "stdout",
          "text": [
            "[[0.4938 0.3062 0.7933 0.7568 0.6507 0.9501 1.    ]\n",
            " [0.2625 0.0902 0.6866 0.6455 0.3693 0.6695 0.6056]\n",
            " [0.6336 0.8937 0.     0.5379 0.8417 0.8377 0.8957]\n",
            " [0.1057 0.8372 0.2707 0.507  0.2816 0.5281 0.931 ]]\n"
          ]
        }
      ],
      "source": [
        "# Генерируем случайный двумерный массив размерности (4, 7) в диапазоне [0, 20]\n",
        "arr = np.random.uniform(0, 20, size=(4, 7))\n",
        "\n",
        "# Нормализуем значения массива\n",
        "min_value = arr.min()\n",
        "max_value = arr.max()\n",
        "normalized_arr = (arr - min_value) / (max_value - min_value)\n",
        "\n",
        "# Округляем значения до четырех десятичных знаков\n",
        "normalized_arr = np.round(normalized_arr, 4)\n",
        "\n",
        "# Выводим нормализованный массив\n",
        "print(normalized_arr)\n"
      ]
    },
    {
      "cell_type": "markdown",
      "metadata": {
        "id": "lb7tnUW1ZbWA"
      },
      "source": [
        "<p style=\"font-size:125%; color:#119988; background-color:#EEE\">Задание 5</p>\n",
        "\n",
        "5. Имеется массив my_array\n",
        "```\n",
        "my_array = np.array([[1,2,3,4,5],\n",
        "                [6,7,8,9,10],\n",
        "                [11,12,13,14,15],\n",
        "                [16,17,18,19,20],\n",
        "                [21,22,23,24,25]])\n",
        "```\n",
        "Напишите код, с помощью которого можно извлечь из него центральный фрагмент размером 3 х 3, с числами 7, 8, 9, 12, 13, 14, 17, 18, 19."
      ]
    },
    {
      "cell_type": "code",
      "execution_count": null,
      "metadata": {
        "colab": {
          "base_uri": "https://localhost:8080/"
        },
        "id": "_v2ba5YAZbWA",
        "outputId": "16d91f8b-acd3-4899-e62e-b3149d5738c1"
      },
      "outputs": [
        {
          "output_type": "stream",
          "name": "stdout",
          "text": [
            "[[ 7  8  9]\n",
            " [12 13 14]\n",
            " [17 18 19]]\n"
          ]
        }
      ],
      "source": [
        "# 5. Ваш код здесь\n",
        "\n",
        "my_array = np.array([[1,2,3,4,5],\n",
        "                    [6,7,8,9,10],\n",
        "                    [11,12,13,14,15],\n",
        "                    [16,17,18,19,20],\n",
        "                    [21,22,23,24,25]])\n",
        "\n",
        "# Извлекаем центральный фрагмент размером 3x3\n",
        "central_fragment = my_array[1:4, 1:4]\n",
        "\n",
        "# Выводим результат\n",
        "print(central_fragment)\n"
      ]
    },
    {
      "cell_type": "markdown",
      "metadata": {
        "id": "-n-uQGHaZbWA"
      },
      "source": [
        "<p style=\"font-size:125%; color:#119988; background-color:#EEE\">Задание 6</p>\n",
        "\n",
        "Создайте массив *my_sin*, состоящий из синусов элементов массива *my_array*.\n",
        "Посчитайте, чему равна сумма элементов полученного массива. Ответ округлите до\n",
        "трёх цифр после запятой."
      ]
    },
    {
      "cell_type": "code",
      "execution_count": null,
      "metadata": {
        "colab": {
          "base_uri": "https://localhost:8080/"
        },
        "id": "6YRQQcGNZbWA",
        "outputId": "6626fbe6-c297-4188-bed9-787ba84a4d23"
      },
      "outputs": [
        {
          "output_type": "stream",
          "name": "stdout",
          "text": [
            "Сумма синусов элементов массива my_array: -0.058\n"
          ]
        }
      ],
      "source": [
        "my_array = np.array([[1, 2, 3, 4, 5],\n",
        "                    [6, 7, 8, 9, 10],\n",
        "                    [11, 12, 13, 14, 15],\n",
        "                    [16, 17, 18, 19, 20],\n",
        "                    [21, 22, 23, 24, 25]])\n",
        "\n",
        "# Вычисляем синусы элементов массива my_array\n",
        "my_sin = np.sin(my_array)\n",
        "\n",
        "# Считаем сумму элементов массива my_sin\n",
        "sum_of_sin = np.sum(my_sin)\n",
        "\n",
        "# Округляем результат до трех цифр после запятой\n",
        "rounded_sum = round(sum_of_sin, 3)\n",
        "\n",
        "# Выводим результат\n",
        "print(\"Сумма синусов элементов массива my_array:\", rounded_sum)\n"
      ]
    },
    {
      "cell_type": "markdown",
      "metadata": {
        "id": "xE690NxFZbWA"
      },
      "source": [
        "<p style=\"font-size:125%; color:#119988; background-color:#EEE\">Задание 7</p>\n",
        "\n",
        "Создать матрицу из 20 случайных целых чисел от 0 до 100. Получить второе сверху значение в матрице. Определить индекс этого значения."
      ]
    },
    {
      "cell_type": "code",
      "execution_count": null,
      "metadata": {
        "colab": {
          "base_uri": "https://localhost:8080/"
        },
        "id": "IHngA2xbZbWB",
        "outputId": "2e065283-504f-4d09-8746-1ae17c85f10c"
      },
      "outputs": [
        {
          "output_type": "stream",
          "name": "stdout",
          "text": [
            "Матрица: [[41 56  6 66 18]\n",
            " [18 50 37 19  4]\n",
            " [56 13 17 17 85]\n",
            " [50  3 23 32 92]]\n",
            "Второе сверху значение: 56\n",
            "Индекс этого значения: (0, 1)\n",
            "(array([0, 2]), array([1, 0]))\n"
          ]
        }
      ],
      "source": [
        "# Создаем матрицу 4x5 случайных целых чисел от 0 до 100\n",
        "matrix = np.random.randint(0, 101, size=(4, 5))\n",
        "\n",
        "# Выводим матрицу\n",
        "print(f\"Матрица: {matrix}\")\n",
        "\n",
        "# Получаем второе сверху значение в матрице\n",
        "second_top_value = matrix[0, 1]  # Вторая строка (индекс 1), первая колонка (индекс 0)\n",
        "\n",
        "# Находим индекс этого значения\n",
        "indices = np.where(matrix == second_top_value)\n",
        "row_index, col_index = indices[0][0], indices[1][0]\n",
        "\n",
        "# Выводим значение и его индекс\n",
        "print(f\"Второе сверху значение: {second_top_value}\")\n",
        "print(f\"Индекс этого значения: ({row_index}, {col_index})\")"
      ]
    },
    {
      "cell_type": "markdown",
      "metadata": {
        "id": "xKzJq2--ZbWB"
      },
      "source": [
        "<p style=\"font-size:125%; color:#119988; background-color:#EEE\">Задание 8</p>\n",
        "\n",
        "Задать два двухмерных массива *ar1* и *ar2* размерности (4, 7), состоящих из случайных целых чисел в пределах от 0 до 10. Построить двухмерный массив размерности (4, 7), каждый элемент которого представляет собой максимум (минимум, среднее) из двух значений, находящихся на аналогичной позиции в массивах *ar1*, *ar2*."
      ]
    },
    {
      "cell_type": "code",
      "execution_count": null,
      "metadata": {
        "colab": {
          "base_uri": "https://localhost:8080/"
        },
        "id": "5Z_dPOrWZbWB",
        "outputId": "7719e1c6-ac08-4969-a26f-5fc9b6726873"
      },
      "outputs": [
        {
          "output_type": "stream",
          "name": "stdout",
          "text": [
            "ar1:\n",
            "[[ 6  2  2 10  7  7  2]\n",
            " [10  4  2  2  5  1  2]\n",
            " [10 10  8  4  9  8  4]\n",
            " [ 4  1  6  1  8  8  1]]\n",
            "\n",
            "ar2:\n",
            "[[ 0  7  7  2  4  9  9]\n",
            " [ 9  9  9 10  1  6  8]\n",
            " [10  9  8  0  6  4  0]\n",
            " [ 5  4  0  7  3  3  2]]\n",
            "\n",
            "Максимум:\n",
            "[[ 6  7  7 10  7  9  9]\n",
            " [10  9  9 10  5  6  8]\n",
            " [10 10  8  4  9  8  4]\n",
            " [ 5  4  6  7  8  8  2]]\n",
            "\n",
            "Минимум:\n",
            "[[ 0  2  2  2  4  7  2]\n",
            " [ 9  4  2  2  1  1  2]\n",
            " [10  9  8  0  6  4  0]\n",
            " [ 4  1  0  1  3  3  1]]\n",
            "\n",
            "Среднее:\n",
            "[[ 3.   4.5  4.5  6.   5.5  8.   5.5]\n",
            " [ 9.5  6.5  5.5  6.   3.   3.5  5. ]\n",
            " [10.   9.5  8.   2.   7.5  6.   2. ]\n",
            " [ 4.5  2.5  3.   4.   5.5  5.5  1.5]]\n"
          ]
        }
      ],
      "source": [
        "# Создаем два массива ar1 и ar2 размерности (4, 7) со случайными целыми числами от 0 до 10\n",
        "ar1 = np.random.randint(0, 11, (4, 7))\n",
        "ar2 = np.random.randint(0, 11, (4, 7))\n",
        "\n",
        "# Выводим исходные массивы\n",
        "print(\"ar1:\")\n",
        "print(ar1)\n",
        "\n",
        "print(\"\\nar2:\")\n",
        "print(ar2)\n",
        "\n",
        "# Вычисляем максимум, минимум и среднее для каждой пары элементов\n",
        "max_values = np.maximum(ar1, ar2)\n",
        "min_values = np.minimum(ar1, ar2)\n",
        "average_values = (ar1 + ar2) / 2\n",
        "\n",
        "# Выводим полученные массивы\n",
        "print(\"\\nМаксимум:\")\n",
        "print(max_values)\n",
        "\n",
        "print(\"\\nМинимум:\")\n",
        "print(min_values)\n",
        "\n",
        "print(\"\\nСреднее:\")\n",
        "print(average_values)\n"
      ]
    },
    {
      "cell_type": "markdown",
      "metadata": {
        "id": "fdxNpTIaZbWB"
      },
      "source": [
        "<p style=\"font-size:125%; color:#119988; background-color:#EEE\">Задание 9</p>\n",
        "\n",
        "Имеется массив *great_array*\n",
        "```\n",
        "first = [x**(1/2) for x in range(100)]\n",
        "second = [x**(1/3) for x in range(100, 200)]\n",
        "third = [x/y for x in range(200,300,2) for y in [3,5]]\n",
        "great_array = np.array([first, second, third]).T\n",
        "```\n",
        "Чему равна сумма элементов массива great_array, значение которых больше 50?"
      ]
    },
    {
      "cell_type": "code",
      "execution_count": null,
      "metadata": {
        "colab": {
          "base_uri": "https://localhost:8080/"
        },
        "id": "m87iHF_rZbWB",
        "outputId": "5e60cc68-e987-4b35-d38e-0d895da89a35"
      },
      "outputs": [
        {
          "output_type": "stream",
          "name": "stdout",
          "text": [
            "Сумма элементов больше 50: 5470.0\n"
          ]
        }
      ],
      "source": [
        "#9 Ваш код здесь\n",
        "\n",
        "first = [x**(1/2) for x in range(100)]\n",
        "second = [x**(1/3) for x in range(100, 200)]\n",
        "third = [x/y for x in range(200,300,2) for y in [3,5]]\n",
        "great_array = np.array([first, second, third]).T\n",
        "\n",
        "# Найдем элементы, значения которых больше 50\n",
        "filtered_array = great_array[great_array > 50]\n",
        "\n",
        "# Вычислим сумму этих элементов\n",
        "sum_of_filtered_values = np.sum(filtered_array)\n",
        "\n",
        "print(\"Сумма элементов больше 50:\", sum_of_filtered_values)"
      ]
    },
    {
      "cell_type": "markdown",
      "metadata": {
        "id": "5EB8KeK5ZbWC"
      },
      "source": [
        "<p style=\"font-size:125%; color:#119988; background-color:#EEE\">Задание 10</p>\n",
        "\n",
        "Переведите массив *great_array* в одномерную форму. Какое значение в получившемся массиве имеет элемент с индексом 150?"
      ]
    },
    {
      "cell_type": "code",
      "execution_count": null,
      "metadata": {
        "colab": {
          "base_uri": "https://localhost:8080/"
        },
        "id": "l-rnK5UaZbWC",
        "outputId": "db8fdc27-4770-48d2-bf5d-6f68a2a88180"
      },
      "outputs": [
        {
          "output_type": "stream",
          "name": "stdout",
          "text": [
            "Значение элемента с индексом 150: 7.0710678118654755\n"
          ]
        }
      ],
      "source": [
        "great_array_flat = great_array.ravel()\n",
        "\n",
        "# Находим значение элемента с индексом 150\n",
        "value_at_index_150 = great_array_flat[150]\n",
        "\n",
        "print(\"Значение элемента с индексом 150:\", value_at_index_150)\n"
      ]
    },
    {
      "cell_type": "markdown",
      "metadata": {
        "id": "O8VABTTQZbWC"
      },
      "source": [
        "<p style=\"font-size:125%; color:#119988; background-color:#EEE\">Задание 11</p>\n",
        "\n",
        "Получить индексы, для которых элементы массивов A и B совпадают.\n",
        "```\n",
        "A = np.array([1,2,3,2,3,4,3,4,5,6])\n",
        "B = np.array([7,2,10,2,7,4,9,4,9,8])\n",
        "```\n",
        "Ожидается результат:\n",
        "\n",
        "```\n",
        "array([1, 3, 5, 7])\n",
        "```"
      ]
    },
    {
      "cell_type": "code",
      "execution_count": null,
      "metadata": {
        "colab": {
          "base_uri": "https://localhost:8080/"
        },
        "id": "tky7OY5rZbWC",
        "outputId": "73d83a7e-0a75-46c1-8f49-42dafd8a28f1"
      },
      "outputs": [
        {
          "output_type": "stream",
          "name": "stdout",
          "text": [
            "[1 3 5 7]\n"
          ]
        }
      ],
      "source": [
        "A = np.array([1, 2, 3, 2, 3, 4, 3, 4, 5, 6])\n",
        "B = np.array([7, 2, 10, 2, 7, 4, 9, 4, 9, 8])\n",
        "\n",
        "# Находим индексы, где элементы A и B совпадают\n",
        "matching_indices = np.where(A == B)[0]\n",
        "\n",
        "print(matching_indices)"
      ]
    },
    {
      "cell_type": "markdown",
      "metadata": {
        "id": "fLmPjOB0ZbWD"
      },
      "source": [
        "<p style=\"font-size:125%; color:#119988; background-color:#EEE\">Задание 12</p>\n",
        "\n",
        "Создайте три массива: массив четных чисел от 2 до 20, массив ближайших к числам первого массива бОльших нечётных чисел, массив векторного произведения первого массива на второй. Соедините все массивы в один двумерный массив, расположив исходные массивы в столбцах."
      ]
    },
    {
      "cell_type": "code",
      "execution_count": null,
      "metadata": {
        "colab": {
          "base_uri": "https://localhost:8080/"
        },
        "id": "ALxbJG5ZZbWD",
        "outputId": "e7aeccc4-5baa-457d-a494-85c10da23696"
      },
      "outputs": [
        {
          "output_type": "stream",
          "name": "stdout",
          "text": [
            "[[  2   3   6]\n",
            " [  4   5  20]\n",
            " [  6   7  42]\n",
            " [  8   9  72]\n",
            " [ 10  11 110]\n",
            " [ 12  13 156]\n",
            " [ 14  15 210]\n",
            " [ 16  17 272]\n",
            " [ 18  19 342]\n",
            " [ 20  21 420]]\n"
          ]
        }
      ],
      "source": [
        "# Создание массива четных чисел от 2 до 20\n",
        "even_numbers = np.arange(2, 21, 2)\n",
        "\n",
        "# Создание массива ближайших к четным числам бОльших нечетных чисел\n",
        "odd_numbers = even_numbers + 1\n",
        "\n",
        "# Создание массива, который представляет векторное произведение первого и второго массивов\n",
        "vector_product = even_numbers * odd_numbers\n",
        "\n",
        "# Объединение всех трех массивов в один двумерный массив\n",
        "result = np.column_stack((even_numbers, odd_numbers, vector_product))\n",
        "\n",
        "print(result)\n"
      ]
    }
  ],
  "metadata": {
    "kernelspec": {
      "display_name": "Python 3 (ipykernel)",
      "language": "python",
      "name": "python3"
    },
    "language_info": {
      "codemirror_mode": {
        "name": "ipython",
        "version": 3
      },
      "file_extension": ".py",
      "mimetype": "text/x-python",
      "name": "python",
      "nbconvert_exporter": "python",
      "pygments_lexer": "ipython3",
      "version": "3.9.7"
    },
    "toc": {
      "base_numbering": 1,
      "nav_menu": {},
      "number_sections": true,
      "sideBar": true,
      "skip_h1_title": false,
      "title_cell": "Table of Contents",
      "title_sidebar": "Contents",
      "toc_cell": true,
      "toc_position": {},
      "toc_section_display": true,
      "toc_window_display": false
    },
    "varInspector": {
      "cols": {
        "lenName": 16,
        "lenType": 16,
        "lenVar": 40
      },
      "kernels_config": {
        "python": {
          "delete_cmd_postfix": "",
          "delete_cmd_prefix": "del ",
          "library": "var_list.py",
          "varRefreshCmd": "print(var_dic_list())"
        },
        "r": {
          "delete_cmd_postfix": ") ",
          "delete_cmd_prefix": "rm(",
          "library": "var_list.r",
          "varRefreshCmd": "cat(var_dic_list()) "
        }
      },
      "types_to_exclude": [
        "module",
        "function",
        "builtin_function_or_method",
        "instance",
        "_Feature"
      ],
      "window_display": false
    },
    "colab": {
      "provenance": [],
      "include_colab_link": true
    }
  },
  "nbformat": 4,
  "nbformat_minor": 0
}