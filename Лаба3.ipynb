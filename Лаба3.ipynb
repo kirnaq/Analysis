{
  "cells": [
    {
      "cell_type": "markdown",
      "metadata": {
        "id": "view-in-github",
        "colab_type": "text"
      },
      "source": [
        "<a href=\"https://colab.research.google.com/github/kirnaq/Analysis/blob/main/%D0%9B%D0%B0%D0%B1%D0%B03.ipynb\" target=\"_parent\"><img src=\"https://colab.research.google.com/assets/colab-badge.svg\" alt=\"Open In Colab\"/></a>"
      ]
    },
    {
      "cell_type": "markdown",
      "metadata": {
        "toc": true,
        "id": "vUKEsbCvVQDq"
      },
      "source": [
        "<h1>Table of Contents<span class=\"tocSkip\"></span></h1>\n",
        "<div class=\"toc\"><ul class=\"toc-item\"><li><span><a href=\"#Тема-3.-Функции\" data-toc-modified-id=\"Тема-3.-Функции-1\"><span class=\"toc-item-num\">1&nbsp;&nbsp;</span>Тема 3. Функции</a></span></li><li><span><a href=\"#Задания\" data-toc-modified-id=\"Задания-2\"><span class=\"toc-item-num\">2&nbsp;&nbsp;</span>Задания</a></span></li></ul></div>"
      ]
    },
    {
      "cell_type": "markdown",
      "metadata": {
        "id": "9nqOFgTIVQDs"
      },
      "source": [
        "\n",
        "# Тема 3. Функции"
      ]
    },
    {
      "cell_type": "markdown",
      "metadata": {
        "id": "3qRKjNbzVQDs"
      },
      "source": [
        "# Задания\n",
        "\n",
        "Выполните задания\n",
        "\n"
      ]
    },
    {
      "cell_type": "markdown",
      "metadata": {
        "id": "qBmt_oL8VQDt"
      },
      "source": [
        "1. Имеется список из 20 случайных чисел от 0 до 100. Напишите функцию, которая разбивает этот список на $n$ списков по $k$ элементов и включает все эти списки в новый список. Используйте $k$ в качестве параметра функции.\n",
        "\n",
        "2. Напишите функцию, вычисляющую факториал числа, передаваемого в качестве параметра.\n",
        "\n",
        "3. Написать функцию умножения, принимающую от одного до трех параметров. Функцию вызвать с приведенными ниже аргументами. Для случая a4 выбрать 3 первых и 3 последних значения.\n",
        "```\n",
        "a1 = (15, 10 ,5)\n",
        "a2 = (3, 1)\n",
        "a3 = [2, 35, 55]\n",
        "a4 = (5, 10 ,15, 20)\n",
        "```\n",
        "\n",
        "4. Напишите функцию, которая для заданного радиуса r вычисляет площадь круга и длину окружности. Функция возвращает кортеж из 2 значений.\n",
        "\n",
        "5. Реализовать функции для выполнения четырех арифметических операций, преобразующих целые числа в целое число. Создать словарь с функциями исоответствующими им симв олами операций. Для двух заранее заданных целых чисел (например, 25 и 4) выполнить выбранную пользователем арифметическую операцию.\n",
        "\n",
        "6. Написать калькулятор для строковых выражений вида '<число> <операция> <число>', где <число> - целое число, например 113, <арифметическая операция> - одна из операций `+,-,*,//,%,^`. Пример: `calc('13 - 5') -> 8`\n",
        "\n",
        "7. Написать функцию, которая преобразует целое число (от 0 до 999) из текстового представления на русском языке в число типа int. Пример: `to_int('тридцать три') -> 33`\n",
        "\n",
        "8. Написать функцию, которая преобразует целое число (от 0 до 999) из текстового представления на русском языке в число типа int. И сообщает об ошибках (выводит на экран описание типа ошибки и возвращает число -1). Пример: to_int('тридцать три') -> 33 Пример: to_int(\"сто сорок тридцать два сто\") -> -1 Вывод: тридцать - некорректное расположение в числе."
      ]
    },
    {
      "cell_type": "markdown",
      "source": [
        "1. Имеется список из 20 случайных чисел от 0 до 100. Напишите функцию, которая разбивает этот список на  n  списков по  k  элементов и включает все эти списки в новый список. Используйте  k  в качестве параметра функции."
      ],
      "metadata": {
        "id": "RSy3vB7LXTiG"
      }
    },
    {
      "cell_type": "code",
      "source": [
        "import random\n",
        "\n",
        "def split_list_into_sublists(input_list, k):\n",
        "    # Проверяем, что k больше 0\n",
        "    if k <= 0:\n",
        "        return \"Параметр k должен быть больше 0.\"\n",
        "\n",
        "    # Инициализируем список, в котором будем хранить подсписки\n",
        "    sublists = []\n",
        "\n",
        "    # Разбиваем исходный список на подсписки\n",
        "    for i in range(0, len(input_list), k):\n",
        "        sublist = input_list[i:i + k]\n",
        "        sublists.append(sublist)\n",
        "\n",
        "    return sublists\n",
        "\n",
        "# Создаем список из 20 случайных чисел от 0 до 100\n",
        "random_numbers = [random.randint(0, 100) for _ in range(20)]\n",
        "\n",
        "# Вызываем функцию для разбиения списка на n списков по k элементов\n",
        "n = 4  # Количество подсписков\n",
        "k = 5  # Количество элементов в каждом подсписке\n",
        "result = split_list_into_sublists(random_numbers, k)\n",
        "\n",
        "# Выводим результат\n",
        "for i, sublist in enumerate(result, 1):\n",
        "    print(f\"Подсписок {i}: {sublist}\")"
      ],
      "metadata": {
        "colab": {
          "base_uri": "https://localhost:8080/"
        },
        "id": "cC3On0NwXW5Z",
        "outputId": "dac1a73c-c87e-433c-b21e-36e6e475bd3c"
      },
      "execution_count": null,
      "outputs": [
        {
          "output_type": "stream",
          "name": "stdout",
          "text": [
            "Подсписок 1: [39, 46, 18, 84, 26]\n",
            "Подсписок 2: [4, 27, 96, 50, 31]\n",
            "Подсписок 3: [79, 84, 28, 67, 99]\n",
            "Подсписок 4: [24, 91, 30, 79, 79]\n"
          ]
        }
      ]
    },
    {
      "cell_type": "markdown",
      "source": [
        "2. Напишите функцию, вычисляющую факториал числа, передаваемого в качестве параметра."
      ],
      "metadata": {
        "id": "8up2HptDZBOb"
      }
    },
    {
      "cell_type": "code",
      "source": [
        "def factorial(n):\n",
        "    if n < 0:\n",
        "        return \"Факториал определен только для неотрицательных целых чисел.\"\n",
        "    elif n == 0:\n",
        "        return 1\n",
        "    else:\n",
        "        result = 1\n",
        "        for i in range(1, n + 1):\n",
        "            result *= i\n",
        "        return result\n",
        "\n",
        "# Пример использования функции\n",
        "number = int(input(\"Введите число: \"))\n",
        "fact = factorial(number)\n",
        "print(f\"{number}! = {fact}\")"
      ],
      "metadata": {
        "colab": {
          "base_uri": "https://localhost:8080/"
        },
        "id": "5PCdWdyuZBiB",
        "outputId": "733ed35e-6ca1-41b7-e4a4-232f241f7efe"
      },
      "execution_count": null,
      "outputs": [
        {
          "output_type": "stream",
          "name": "stdout",
          "text": [
            "Введите число: 3\n",
            "3! = 6\n"
          ]
        }
      ]
    },
    {
      "cell_type": "markdown",
      "source": [
        "3. Написать функцию умножения, принимающую от одного до трех параметров. Функцию вызвать с приведенными ниже аргументами. Для случая a4 выбрать 3 первых и 3 последних значения.\n",
        "```\n",
        "a1 = (15, 10 ,5)\n",
        "a2 = (3, 1)\n",
        "a3 = [2, 35, 55]\n",
        "a4 = (5, 10 ,15, 20)\n",
        "```"
      ],
      "metadata": {
        "id": "gZnXFKKmZKkI"
      }
    },
    {
      "cell_type": "code",
      "source": [
        "def multiply(*args):\n",
        "    result = 1\n",
        "    for arg in args:\n",
        "        result *= arg\n",
        "    return result\n",
        "\n",
        "# Вызовы функции с заданными аргументами\n",
        "a1 = (15, 10, 5)\n",
        "result_a1 = multiply(*a1)\n",
        "print(f\"Умножение a1: {result_a1}\")\n",
        "\n",
        "a2 = (3, 1)\n",
        "result_a2 = multiply(*a2)\n",
        "print(f\"Умножение a2: {result_a2}\")\n",
        "\n",
        "a3 = [2, 35, 55]\n",
        "result_a3 = multiply(*a3)\n",
        "print(f\"Умножение a3: {result_a3}\")\n",
        "\n",
        "a4 = (5, 10, 15, 20)\n",
        "result_a4 = multiply(a4[:3] + a4[-3:])\n",
        "print(f\"Умножение a4: {result_a4}\")"
      ],
      "metadata": {
        "colab": {
          "base_uri": "https://localhost:8080/"
        },
        "id": "2UYce84_ZOcY",
        "outputId": "6bf85b88-913b-4308-e666-bf3c65238f6a"
      },
      "execution_count": null,
      "outputs": [
        {
          "output_type": "stream",
          "name": "stdout",
          "text": [
            "Умножение a1: 750\n",
            "Умножение a2: 3\n",
            "Умножение a3: 3850\n",
            "Умножение a4: (5, 10, 15, 10, 15, 20)\n"
          ]
        }
      ]
    },
    {
      "cell_type": "markdown",
      "source": [
        "4. Напишите функцию, которая для заданного радиуса r вычисляет площадь круга и длину окружности. Функция возвращает кортеж из 2 значений."
      ],
      "metadata": {
        "id": "a1dKouENZbTw"
      }
    },
    {
      "cell_type": "code",
      "source": [
        "import math\n",
        "\n",
        "def calculate_circle_properties(radius):\n",
        "    # Площадь круга\n",
        "    area = round((math.pi * radius**2),3)\n",
        "\n",
        "    # Длина окружности\n",
        "    circumference = round((2 * math.pi * radius),3)\n",
        "\n",
        "    # Возвращаем результат в виде кортежа\n",
        "    return (area, circumference)\n",
        "\n",
        "# Заданный радиус\n",
        "radius = int(input(\"Введите радиус: \"))\n",
        "\n",
        "# Вызываем функцию для вычисления площади круга и длины окружности\n",
        "circle_properties = calculate_circle_properties(radius)\n",
        "\n",
        "# Выводим результат\n",
        "area, circumference = circle_properties\n",
        "print(f\"Площадь круга: {area}\")\n",
        "print(f\"Длина окружности: {circumference}\")"
      ],
      "metadata": {
        "colab": {
          "base_uri": "https://localhost:8080/"
        },
        "id": "l0K2tE64Zk7h",
        "outputId": "10a6a1b9-5367-462a-ec86-b02a865f9404"
      },
      "execution_count": null,
      "outputs": [
        {
          "output_type": "stream",
          "name": "stdout",
          "text": [
            "Введите радиус: 5\n",
            "Площадь круга: 78.54\n",
            "Длина окружности: 31.416\n"
          ]
        }
      ]
    },
    {
      "cell_type": "markdown",
      "source": [
        "5. Реализовать функции для выполнения четырех арифметических операций, преобразующих целые числа в целое число. Создать словарь с функциями исоответствующими им симв олами операций. Для двух заранее заданных целых чисел (например, 25 и 4) выполнить выбранную пользователем арифметическую операцию."
      ],
      "metadata": {
        "id": "nZlPOcSJZozW"
      }
    },
    {
      "cell_type": "code",
      "source": [
        "# Функции для арифметических операций\n",
        "def add(x, y):\n",
        "    return x + y\n",
        "\n",
        "def subtract(x, y):\n",
        "    return x - y\n",
        "\n",
        "def multiply(x, y):\n",
        "    return x * y\n",
        "\n",
        "def divide(x, y):\n",
        "    if y == 0:\n",
        "        return \"Ошибка: деление на ноль\"\n",
        "    return x / y\n",
        "\n",
        "# Создание словаря операций\n",
        "operations = {\n",
        "    '+': add,\n",
        "    '-': subtract,\n",
        "    '*': multiply,\n",
        "    '/': divide\n",
        "}\n",
        "\n",
        "# Ввод пользователем двух чисел\n",
        "num1 = int(input(\"Введите первое целое число: \"))\n",
        "num2 = int(input(\"Введите второе целое число: \"))\n",
        "\n",
        "# Выбор операции пользователем\n",
        "print(\"Доступные операции:\")\n",
        "for symbol in operations:\n",
        "    print(symbol, end=' ')\n",
        "selected_operation = input(\"\\nВыберите операцию: \")\n",
        "\n",
        "# Проверка наличия выбранной операции\n",
        "if selected_operation in operations:\n",
        "    # Выполнение выбранной операции\n",
        "    result = operations[selected_operation](num1, num2)\n",
        "    print(f\"Результат: {result}\")\n",
        "else:\n",
        "    print(\"Неверная операция\")"
      ],
      "metadata": {
        "colab": {
          "base_uri": "https://localhost:8080/"
        },
        "id": "MdiCzj5cZyfe",
        "outputId": "dac4cc96-7866-404a-bd40-d790afd0bdba"
      },
      "execution_count": null,
      "outputs": [
        {
          "output_type": "stream",
          "name": "stdout",
          "text": [
            "Введите первое целое число: 45\n",
            "Введите второе целое число: 54\n",
            "Доступные операции:\n",
            "+ - * / \n",
            "Выберите операцию: *\n",
            "Результат: 2430\n"
          ]
        }
      ]
    },
    {
      "cell_type": "markdown",
      "source": [
        "6. Написать калькулятор для строковых выражений вида '<число> <операция> <число>', где <число> - целое число, например 113, <арифметическая операция> - одна из операций `+,-,*,//,%,^`. Пример: `calc('13 - 5') -> 8`"
      ],
      "metadata": {
        "id": "dZU3jQoqaLDp"
      }
    },
    {
      "cell_type": "code",
      "source": [
        "def calc(expression):\n",
        "    try:\n",
        "        # Разбиваем строку на операнды и операцию\n",
        "        parts = expression.split()\n",
        "        if len(parts) != 3:\n",
        "            raise ValueError(\"Неверный формат выражения\")\n",
        "\n",
        "        num1 = float(parts[0])\n",
        "        operator = parts[1]\n",
        "        num2 = float(parts[2])\n",
        "\n",
        "        # Выполняем операцию\n",
        "        if operator == '+':\n",
        "            result = num1 + num2\n",
        "        elif operator == '-':\n",
        "            result = num1 - num2\n",
        "        elif operator == '*':\n",
        "            result = num1 * num2\n",
        "        elif operator == '/':\n",
        "            if num2 == 0:\n",
        "                raise ZeroDivisionError(\"Деление на ноль\")\n",
        "            result = num1 / num2\n",
        "        elif operator == '//':\n",
        "            if num2 == 0:\n",
        "                raise ZeroDivisionError(\"Деление на ноль\")\n",
        "            result = num1 // num2\n",
        "        elif operator == '%':\n",
        "            if num2 == 0:\n",
        "                raise ZeroDivisionError(\"Деление по модулю на ноль\")\n",
        "            result = num1 % num2\n",
        "        elif operator == '^':\n",
        "            result = num1 ** num2\n",
        "        else:\n",
        "            raise ValueError(\"Неподдерживаемая операция\")\n",
        "\n",
        "        return result\n",
        "    except (ValueError, ZeroDivisionError) as e:\n",
        "        return str(e)\n",
        "\n",
        "# Пример использования\n",
        "expression = input(\"Введите выражение в формате '<число> <операция> <число>': \")\n",
        "result = calc(expression)\n",
        "print(\"Результат:\", result)"
      ],
      "metadata": {
        "colab": {
          "base_uri": "https://localhost:8080/"
        },
        "id": "_v9YY3ffaUkd",
        "outputId": "36421c8f-25d4-485e-babd-cd4f49c4d3ed"
      },
      "execution_count": null,
      "outputs": [
        {
          "output_type": "stream",
          "name": "stdout",
          "text": [
            "Введите выражение в формате '<число> <операция> <число>': 45 * 54\n",
            "Результат: 2430.0\n"
          ]
        }
      ]
    },
    {
      "cell_type": "markdown",
      "source": [
        "7. Написать функцию, которая преобразует целое число (от 0 до 999) из текстового представления на русском языке в число типа int. Пример: `to_int('тридцать три') -> 33`"
      ],
      "metadata": {
        "id": "RG7esNH9aa7A"
      }
    },
    {
      "cell_type": "code",
      "source": [
        "def to_int(text_number):\n",
        "    numbers_dict = {\n",
        "        'ноль': 0, 'один': 1, 'два': 2, 'три': 3, 'четыре': 4, 'пять': 5, 'шесть': 6, 'семь': 7, 'восемь': 8, 'девять': 9,\n",
        "        'десять': 10, 'одиннадцать': 11, 'двенадцать': 12, 'тринадцать': 13, 'четырнадцать': 14, 'пятнадцать': 15,\n",
        "        'шестнадцать': 16, 'семнадцать': 17, 'восемнадцать': 18, 'девятнадцать': 19, 'двадцать': 20, 'тридцать': 30,\n",
        "        'сорок': 40, 'пятьдесят': 50, 'шестьдесят': 60, 'семьдесят': 70, 'восемьдесят': 80, 'девяносто': 90,\n",
        "        'сто': 100, 'двести': 200, 'триста': 300, 'четыреста': 400, 'пятьсот': 500, 'шестьсот': 600, 'семьсот': 700,\n",
        "        'восемьсот': 800, 'девятьсот': 900\n",
        "    }\n",
        "\n",
        "    words = text_number.split()\n",
        "    result = 0\n",
        "    current_number = 0\n",
        "\n",
        "    for word in words:\n",
        "        if word in numbers_dict:\n",
        "            current_number += numbers_dict[word]\n",
        "        else:\n",
        "            current_number += numbers_dict[word[:-1]]  # Обрезаем последний символ ('а' или 'ь')\n",
        "\n",
        "    result += current_number\n",
        "    return result\n",
        "\n",
        "# Пример использования\n",
        "text_number = input(\"Введите число на русском языке: \")\n",
        "integer_number = to_int(text_number)\n",
        "print(f\"Преобразованное число: {integer_number}\")"
      ],
      "metadata": {
        "colab": {
          "base_uri": "https://localhost:8080/"
        },
        "id": "UFakTwsBanu3",
        "outputId": "2779f152-8cd9-4bc7-a7b5-20c91ab38e4d"
      },
      "execution_count": null,
      "outputs": [
        {
          "output_type": "stream",
          "name": "stdout",
          "text": [
            "Введите число на русском языке: восемьсот пятьдесят четыре\n",
            "Преобразованное число: 854\n"
          ]
        }
      ]
    },
    {
      "cell_type": "markdown",
      "source": [
        "8. Написать функцию, которая преобразует целое число (от 0 до 999) из текстового представления на русском языке в число типа int. И сообщает об ошибках (выводит на экран описание типа ошибки и возвращает число -1). Пример: to_int('тридцать три') -> 33 Пример: to_int(\"сто сорок тридцать два сто\") -> -1 Вывод: тридцать - некорректное расположение в числе."
      ],
      "metadata": {
        "id": "m5Y9ghVraqqh"
      }
    },
    {
      "cell_type": "code",
      "source": [
        "def to_int(text_number):\n",
        "    numbers_dict = {\n",
        "        'ноль': 0, 'один': 1, 'два': 2, 'три': 3, 'четыре': 4, 'пять': 5, 'шесть': 6, 'семь': 7, 'восемь': 8, 'девять': 9,\n",
        "        'десять': 10, 'одиннадцать': 11, 'двенадцать': 12, 'тринадцать': 13, 'четырнадцать': 14, 'пятнадцать': 15,\n",
        "        'шестнадцать': 16, 'семнадцать': 17, 'восемнадцать': 18, 'девятнадцать': 19, 'двадцать': 20, 'тридцать': 30,\n",
        "        'сорок': 40, 'пятьдесят': 50, 'шестьдесят': 60, 'семьдесят': 70, 'восемьдесят': 80, 'девяносто': 90,\n",
        "        'сто': 100, 'двести': 200, 'триста': 300, 'четыреста': 400, 'пятьсот': 500, 'шестьсот': 600, 'семьсот': 700,\n",
        "        'восемьсот': 800, 'девятьсот': 900\n",
        "    }\n",
        "\n",
        "    words = text_number.split()\n",
        "    result = 0\n",
        "    current_number = 0\n",
        "    prev_number = 0\n",
        "\n",
        "    for word in words:\n",
        "        if word in numbers_dict:\n",
        "            if current_number == 0:\n",
        "                current_number = numbers_dict[word]\n",
        "            else:\n",
        "                return -1  # Некорректное расположение чисел\n",
        "        else:\n",
        "            return -1  # Неизвестное слово\n",
        "\n",
        "        if current_number < prev_number:\n",
        "            return -1  # Некорректное расположение чисел\n",
        "\n",
        "        prev_number = current_number\n",
        "\n",
        "    result += current_number\n",
        "    return result\n",
        "\n",
        "# Пример использования\n",
        "text_number = input(\"Введите число на русском языке: \")\n",
        "integer_number = to_int(text_number)\n",
        "\n",
        "if integer_number == -1:\n",
        "    print(\"Ошибка: некорректное число.\")\n",
        "else:\n",
        "    print(f\"Преобразованное число: {integer_number}\")"
      ],
      "metadata": {
        "colab": {
          "base_uri": "https://localhost:8080/"
        },
        "id": "B2zlUZpcasTR",
        "outputId": "3ca7f101-9df1-44dd-c04b-4562d2735f5d"
      },
      "execution_count": null,
      "outputs": [
        {
          "output_type": "stream",
          "name": "stdout",
          "text": [
            "Введите число на русском языке: сто сорок тридцать три\n",
            "Ошибка: некорректное число.\n"
          ]
        }
      ]
    }
  ],
  "metadata": {
    "kernelspec": {
      "display_name": "Python 3 (ipykernel)",
      "language": "python",
      "name": "python3"
    },
    "language_info": {
      "codemirror_mode": {
        "name": "ipython",
        "version": 3
      },
      "file_extension": ".py",
      "mimetype": "text/x-python",
      "name": "python",
      "nbconvert_exporter": "python",
      "pygments_lexer": "ipython3",
      "version": "3.9.7"
    },
    "toc": {
      "base_numbering": 1,
      "nav_menu": {},
      "number_sections": true,
      "sideBar": true,
      "skip_h1_title": false,
      "title_cell": "Table of Contents",
      "title_sidebar": "Contents",
      "toc_cell": true,
      "toc_position": {},
      "toc_section_display": true,
      "toc_window_display": false
    },
    "varInspector": {
      "cols": {
        "lenName": 16,
        "lenType": 16,
        "lenVar": 40
      },
      "kernels_config": {
        "python": {
          "delete_cmd_postfix": "",
          "delete_cmd_prefix": "del ",
          "library": "var_list.py",
          "varRefreshCmd": "print(var_dic_list())"
        },
        "r": {
          "delete_cmd_postfix": ") ",
          "delete_cmd_prefix": "rm(",
          "library": "var_list.r",
          "varRefreshCmd": "cat(var_dic_list()) "
        }
      },
      "types_to_exclude": [
        "module",
        "function",
        "builtin_function_or_method",
        "instance",
        "_Feature"
      ],
      "window_display": false
    },
    "colab": {
      "provenance": [],
      "include_colab_link": true
    }
  },
  "nbformat": 4,
  "nbformat_minor": 0
}