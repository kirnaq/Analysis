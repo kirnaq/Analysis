{
  "cells": [
    {
      "cell_type": "markdown",
      "metadata": {
        "id": "view-in-github",
        "colab_type": "text"
      },
      "source": [
        "<a href=\"https://colab.research.google.com/github/kirnaq/Analysis/blob/main/%D0%9B%D0%B0%D0%B1%D0%B02.ipynb\" target=\"_parent\"><img src=\"https://colab.research.google.com/assets/colab-badge.svg\" alt=\"Open In Colab\"/></a>"
      ]
    },
    {
      "cell_type": "markdown",
      "metadata": {
        "toc": true,
        "id": "tB73WwAfNfnh"
      },
      "source": [
        "<h1>Table of Contents<span class=\"tocSkip\"></span></h1>\n",
        "<div class=\"toc\"><ul class=\"toc-item\"><li><span><a href=\"#Тема-2.-Строки-и-коллекции-в-языке-Python\" data-toc-modified-id=\"Тема-2.-Строки-и-коллекции-в-языке-Python-1\"><span class=\"toc-item-num\">1&nbsp;&nbsp;</span>Тема 2. Строки и коллекции в языке Python</a></span></li><li><span><a href=\"#Задания\" data-toc-modified-id=\"Задания-2\"><span class=\"toc-item-num\">2&nbsp;&nbsp;</span>Задания</a></span><ul class=\"toc-item\"><li><span><a href=\"#1.3.-Операторы-сравнения.-Логические-операторы.-Инструкция-ветвления-if...else\" data-toc-modified-id=\"1.3.-Операторы-сравнения.-Логические-операторы.-Инструкция-ветвления-if...else-2.1\"><span class=\"toc-item-num\">2.1&nbsp;&nbsp;</span>1.3. Операторы сравнения. Логические операторы. Инструкция ветвления if...else</a></span></li></ul></li></ul></div>"
      ]
    },
    {
      "cell_type": "markdown",
      "metadata": {
        "id": "sQn3NYzkNfnn"
      },
      "source": [
        "\n",
        "# Тема 2. Строки и коллекции в языке Python"
      ]
    },
    {
      "cell_type": "markdown",
      "metadata": {
        "id": "IlIp8oFTNfno"
      },
      "source": [
        "# Задания\n",
        "\n",
        "Выполните задания\n",
        "\n"
      ]
    },
    {
      "cell_type": "markdown",
      "metadata": {
        "id": "Lbb2Tfi6Nfnp"
      },
      "source": [
        "## 1.3. Операторы сравнения. Логические операторы. Инструкция ветвления if...else\n",
        "\n",
        "1. Определить время года по номеру месяца.\n",
        "2. Определить минимальное значение среди чисел $a, b, c, d$ (не использовать стандартные функции max и min).\n",
        "3. Напишите программу, которая переводит оценку из 100-балльной системы в пятибалльную по правилам, принятым в университете.\n",
        "4. Вычислить значение $F: F=1$, если цифра $7$ входит в запись заданного трехзначного числа, и $0$ – в противном случае.\n",
        "5. Даны два отрезка $[a;b]$ и $[c;d]$. Найдите их пересечение. Если отрезки не пересекаются, то выдайте сообщение.\n",
        "6. По номеру года определите, является ли данный год високосным. (год является високосным, если его номер кратен 4, но не кратен 100, а также если он кратен 400).\n",
        "7. Для отрезков длины a, b, c определить, можно ли из них составить треугольник и является ли этот треугольник прямоугольным.\n",
        "8. Напишите программу для решения уравнения\n",
        "$$ ax^2+bx+c=0 $$\n",
        "Коэффициенты $a, b, c$ могут быть любыми числами.\n",
        "9. Вводится целое число. Выведите его на экран и допишите к нему слова «рубль», «рубля» или «рублей» в зависимости от значения. Алгоритм:\n",
        "- исключение: если число оканчивается на 11, 12, 13 или 14, добавляем слово «рублей»;\n",
        "- если число оканчивается на 1, добавляем слово «рубль»;\n",
        "- если число оканчивается на 2, 3 или 4, добавляем слово «рубля»;\n",
        "- если число оканчивается на цифры 5, 6, 7, 8, 9 или 0, добавляем слово «рублей».\n",
        "\n",
        "10. Пользователь поочередно вводит координаты точки в декартовой системе координат. Определить, какой четверти принадлежит данная точка или на какой оси она находится. Расположение точки вывести на экран. Найти произведение номера четверти на расстояние от этой точки до начала координат и вывести его на экран. Если точка лежит на оси, считать, что номер четверти равен 0.\n",
        "11. Выведите значение заданного целого числа от 0 до 999 прописью. Например, «сто девяносто один» для числа 191, «одиннадцать» для числа 11.\n",
        "12. Вычислите значение выражения, которое состоит из целых чисел и знаков «+» и «-». Выражение вводится как символьная строка.\n",
        "13. Пользователь поочередно вводит 2 строки. Определите, какая строка длиннее и на сколько символов, а какая строка стоит раньше в лексикографическом порядке. Собрать результирующую строку, которая бы содержала 1 и 2 строки, разделенные переносом строки.\n",
        "14. Реализовать калькулятор, который принимает от пользователя через пробел строку следующего вида: «a op b», где a и b – некоторые числа, а ‘op’ определяет оператор и может принимать значения $«+,-,*,/,**,%»$. В зависимости от оператора с помощью форматирования строк вывести результат в виде: «a + b = 3 + 2 = 5», где была получена строка «3 + 2». Для операций возведения в степень и деления по модулю использовать вместо знака оператора соответствующие выражения. Например, для строки «2 ** 3» должно быть выведено «a в степени b = 2 в степени 3 = 8».\n",
        "15. Напишите программу, которая в зависимости от введенного пользователем числа N, осуществляет вывод N кошек на экран. Пусть 1<= N <=10. Примечание: кошки при N=3 выглядят примерно так\n",
        "```\n",
        " /\\__/\\ /\\__/\\ /\\__/\\\n",
        " /@ @\\ /@ @\\ /@ @\\\n",
        " (~~0~~) (~~0~~) (~~0~~)\n",
        "```\n",
        "16. Имеются два n – мерных вектора x и y, которые задают координаты n точек на плоскости (случайные целые числа). Найти наиболее близкие друг другу точки.\n",
        "17. Из множества целых чисел от 1 до N выделить множество N2 числа, кратные 2, множество N3 – кратные 3, множество N 6 – кратные 6 (т.е. кратные и 2 и 3), множество N 23 – кратные либо 2, либо 3.\n",
        "18. Даны m (m>1) слов. Найти общее количество заданной буквы в этих словах.\n",
        "19. Даны m (m>1) слов. В каком из них доля (в %) заданной буквы больше."
      ]
    },
    {
      "cell_type": "code",
      "execution_count": null,
      "metadata": {
        "id": "GC6XnbNtNfnq"
      },
      "outputs": [],
      "source": []
    },
    {
      "cell_type": "markdown",
      "source": [
        "1. Определить время года по номеру месяца."
      ],
      "metadata": {
        "id": "MmREuxKANxeL"
      }
    },
    {
      "cell_type": "code",
      "source": [
        "month = int(input(\"Введите номер меясца: \"))\n",
        "\n",
        "if 1<= month <= 2 or month == 12:\n",
        "  season = \"Зима\"\n",
        "elif 3<= month <= 5:\n",
        "  season = \"Весна\"\n",
        "elif 6<= month <=8:\n",
        "  season = \"Лето\"\n",
        "elif 9<= month <= 11:\n",
        "  season = \"Осень\"\n",
        "\n",
        "print(season)"
      ],
      "metadata": {
        "colab": {
          "base_uri": "https://localhost:8080/"
        },
        "id": "MhmZ3WQuN5vU",
        "outputId": "bc363c3c-a5d3-4a02-e911-3dcf5806b817"
      },
      "execution_count": null,
      "outputs": [
        {
          "output_type": "stream",
          "name": "stdout",
          "text": [
            "Введите номер меясца: 5\n",
            "Весна\n"
          ]
        }
      ]
    },
    {
      "cell_type": "markdown",
      "source": [
        "2. Определить минимальное значение среди чисел  a,b,c,d  (не использовать стандартные функции max и min)."
      ],
      "metadata": {
        "id": "Ybt9eMYhQowd"
      }
    },
    {
      "cell_type": "code",
      "source": [
        "a, b, c, d = 4, 2, 7, 9\n",
        "\n",
        "min_value = a\n",
        "\n",
        "if b < min_value:\n",
        "  min_value = b\n",
        "if c < min_value:\n",
        "  min_value = c\n",
        "if d < min_value:\n",
        "  min_value = d\n",
        "\n",
        "print(f\"Минимальное значение из {a}, {b}, {c}, {d}: {min_value}\")"
      ],
      "metadata": {
        "colab": {
          "base_uri": "https://localhost:8080/"
        },
        "id": "AfPFgW80Qs6Z",
        "outputId": "9db29d8c-8f6c-45c6-b1cc-02e80a8edd7d"
      },
      "execution_count": null,
      "outputs": [
        {
          "output_type": "stream",
          "name": "stdout",
          "text": [
            "Минимальное значение из 4, 2, 7, 9: 2\n"
          ]
        }
      ]
    },
    {
      "cell_type": "markdown",
      "source": [
        "3. Напишите программу, которая переводит оценку из 100-балльной системы в пятибалльную по правилам, принятым в университете."
      ],
      "metadata": {
        "id": "iHXpaIXiVRQn"
      }
    },
    {
      "cell_type": "code",
      "source": [
        "balli = int(input(\"Введите количество баллов: \"))\n",
        "\n",
        "if 100>= balli >=90:\n",
        "  ocenka = 5\n",
        "elif 89>= balli >= 76:\n",
        "  ocenka = 4\n",
        "elif 75>= balli >= 50:\n",
        "  ocenka = 3\n",
        "elif 49>= balli:\n",
        "  ocenka = 2\n",
        "\n",
        "print(f\"Оценка = {ocenka}\")\n"
      ],
      "metadata": {
        "colab": {
          "base_uri": "https://localhost:8080/"
        },
        "id": "WDxQup9YVSqg",
        "outputId": "301c6d8e-93a5-4d94-f0f3-c921587d161b"
      },
      "execution_count": null,
      "outputs": [
        {
          "output_type": "stream",
          "name": "stdout",
          "text": [
            "Введите количество баллов: 45\n",
            "Оценка = 2\n"
          ]
        }
      ]
    },
    {
      "cell_type": "markdown",
      "source": [
        "4. Вычислить значение $F: F=1$, если цифра $7$ входит в запись заданного трехзначного числа, и $0$ – в противном случае."
      ],
      "metadata": {
        "id": "kVHBN-2hZAbE"
      }
    },
    {
      "cell_type": "code",
      "source": [
        "number = int(input(\"Введите трехзначное число: \"))\n",
        "\n",
        "# Проверяем, содержит ли число цифру 7\n",
        "if '7' in str(number):\n",
        "    F = 1\n",
        "else:\n",
        "    F = 0\n",
        "\n",
        "print(f\"F = {F}\")\n"
      ],
      "metadata": {
        "colab": {
          "base_uri": "https://localhost:8080/"
        },
        "id": "Gpa9Doy4ZFnX",
        "outputId": "6aa11126-194c-4dd0-e9c0-f58403f1ad2d"
      },
      "execution_count": null,
      "outputs": [
        {
          "output_type": "stream",
          "name": "stdout",
          "text": [
            "Введите трехзначное число: 647\n",
            "F = 1\n"
          ]
        }
      ]
    },
    {
      "cell_type": "markdown",
      "source": [
        "5. Даны два отрезка $[a;b]$ и $[c;d]$. Найдите их пересечение. Если отрезки не пересекаются, то выдайте сообщение.\n"
      ],
      "metadata": {
        "id": "hBCWQafMbduy"
      }
    },
    {
      "cell_type": "code",
      "source": [
        "a = int(input(\"Введите a: \"))\n",
        "b = int(input(\"Введите b: \"))\n",
        "c = int(input(\"Введите c: \"))\n",
        "d = int(input(\"Введите d: \"))\n",
        "\n",
        "# Проверяем, есть ли пересечение между отрезками\n",
        "if max(a, c) <= min(b, d):\n",
        "    intersection_start = max(a, c)\n",
        "    intersection_end = min(b, d)\n",
        "\n",
        "    print(f\"Пересечение отрезков: [{intersection_start}; {intersection_end}]\")\n",
        "else:\n",
        "    print(\"Отрезки не пересекаются.\")"
      ],
      "metadata": {
        "colab": {
          "base_uri": "https://localhost:8080/"
        },
        "id": "L6QgKmGjcKZs",
        "outputId": "0001ca2c-054d-477b-d9db-a3f9de1d313a"
      },
      "execution_count": null,
      "outputs": [
        {
          "output_type": "stream",
          "name": "stdout",
          "text": [
            "Введите a: 10\n",
            "Введите b: 10\n",
            "Введите c: 5\n",
            "Введите d: 15\n",
            "Пересечение отрезков: [10; 10]\n"
          ]
        }
      ]
    },
    {
      "cell_type": "markdown",
      "source": [
        "6. По номеру года определите, является ли данный год високосным. (год является високосным, если его номер кратен 4, но не кратен 100, а также если он кратен 400)."
      ],
      "metadata": {
        "id": "gOB3Z_VOcy_8"
      }
    },
    {
      "cell_type": "code",
      "source": [
        "num_year = int(input(\"Введите номер года: \"))\n",
        "\n",
        "if (num_year & 4 == 0 and num_year % 100 != 0) or (num_year & 400 == 0):\n",
        "  print(f\"Год {num_year} високосный\")\n",
        "else:\n",
        "  print(f\"Год {num_year} не високосный\")\n"
      ],
      "metadata": {
        "colab": {
          "base_uri": "https://localhost:8080/"
        },
        "id": "Bi5nnOqOdAS3",
        "outputId": "6833f31b-f100-4158-9a18-268a8203dbfb"
      },
      "execution_count": null,
      "outputs": [
        {
          "output_type": "stream",
          "name": "stdout",
          "text": [
            "Введите номер года: 2022\n",
            "Год 2022 не високосный\n"
          ]
        }
      ]
    },
    {
      "cell_type": "markdown",
      "source": [
        "7. Для отрезков длины a, b, c определить, можно ли из них составить треугольник и является ли этот треугольник прямоугольным."
      ],
      "metadata": {
        "id": "_UdpeiT3hGjr"
      }
    },
    {
      "cell_type": "code",
      "source": [
        "a = float(input(\"Введите длину отрезка a: \"))\n",
        "b = float(input(\"Введите длину отрезка b: \"))\n",
        "c = float(input(\"Введите длину отрезка c: \"))\n",
        "\n",
        "\n",
        "# Проверяем условие существования треугольника\n",
        "if a + b > c and a + c > b and b + c > a:\n",
        "    print(\"Из данных отрезков можно составить треугольник.\")\n",
        "\n",
        "    # Проверяем, является ли треугольник прямоугольным\n",
        "    if a ** 2 + b ** 2 == c ** 2 or a ** 2 + c ** 2 == b ** 2 or b ** 2 + c ** 2 == a ** 2:\n",
        "        print(\"Треугольник является прямоугольным.\")\n",
        "    else:\n",
        "        print(\"Треугольник не является прямоугольным.\")\n",
        "else:\n",
        "    print(\"Из данных отрезков нельзя составить треугольник.\")\n"
      ],
      "metadata": {
        "id": "enN-n4_QhMZl"
      },
      "execution_count": null,
      "outputs": []
    },
    {
      "cell_type": "markdown",
      "source": [
        "8. Напишите программу для решения уравнения\n",
        "$$ ax^2+bx+c=0 $$\n",
        "Коэффициенты $a, b, c$ могут быть любыми числами."
      ],
      "metadata": {
        "id": "qdA0e3zih9Kb"
      }
    },
    {
      "cell_type": "code",
      "source": [
        "import math\n",
        "\n",
        "a = float(input(\"Введите знчение a: \"))\n",
        "b = float(input(\"Введите значение b: \"))\n",
        "c = float(input(\"Введите значение с: \"))\n",
        "\n",
        "D = b**2 - 4*a*c\n",
        "\n",
        "if D > 0:\n",
        "  x1 = (-b + math.sqrt(D))//2*a\n",
        "  x2 = (-b - math.sqrt(D))//2*a\n",
        "  print(f\"Уравнение имеет два корня: x1 = {x1}; x2 = {x2}\")\n",
        "elif D == 0:\n",
        "  x1 = -b/(2*a)\n",
        "  print(f\"Уравнение имеет один корень: x1 = {x1}\")\n",
        "else:\n",
        "  print(\"Уравнение не имеет действительных корней\")"
      ],
      "metadata": {
        "colab": {
          "base_uri": "https://localhost:8080/"
        },
        "id": "mcg9fxKxiEd7",
        "outputId": "4eacc660-307e-4721-a81b-dbb00ee3a4f4"
      },
      "execution_count": null,
      "outputs": [
        {
          "output_type": "stream",
          "name": "stdout",
          "text": [
            "Введите знчение a: 6\n",
            "Введите значение b: 3\n",
            "Введите значение с: 4\n",
            "Уравнение не имеет действительных корней\n"
          ]
        }
      ]
    },
    {
      "cell_type": "markdown",
      "source": [
        "9. Вводится целое число. Выведите его на экран и допишите к нему слова «рубль», «рубля» или «рублей» в зависимости от значения. Алгоритм:\n",
        "- исключение: если число оканчивается на 11, 12, 13 или 14, добавляем слово «рублей»;\n",
        "- если число оканчивается на 1, добавляем слово «рубль»;\n",
        "- если число оканчивается на 2, 3 или 4, добавляем слово «рубля»;\n",
        "- если число оканчивается на цифры 5, 6, 7, 8, 9 или 0, добавляем слово «рублей»."
      ],
      "metadata": {
        "id": "i4A50sAhmure"
      }
    },
    {
      "cell_type": "code",
      "source": [
        "number = int(input(\"Введите целое число: \"))\n",
        "\n",
        "# Определите остаток от деления на 10\n",
        "last_digit = number % 10\n",
        "\n",
        "# Определите остаток от деления на 100 (для исключения чисел 11, 12, 13 и 14)\n",
        "last_two_digits = number % 100\n",
        "\n",
        "# Определите, какое слово добавить в зависимости от остатка и исключений\n",
        "if 10 < last_two_digits < 20:\n",
        "    result = f\"{number} рублей\"\n",
        "elif last_digit == 1:\n",
        "    result = f\"{number} рубль\"\n",
        "elif 2 <= last_digit <= 4:\n",
        "    result = f\"{number} рубля\"\n",
        "else:\n",
        "    result = f\"{number} рублей\"\n",
        "\n",
        "print(result)"
      ],
      "metadata": {
        "colab": {
          "base_uri": "https://localhost:8080/"
        },
        "id": "de2KYLkRm97Q",
        "outputId": "e86a5d21-d8ab-417f-f097-665460907758"
      },
      "execution_count": null,
      "outputs": [
        {
          "output_type": "stream",
          "name": "stdout",
          "text": [
            "Введите целое число: 23526\n",
            "23526 рублей\n"
          ]
        }
      ]
    },
    {
      "cell_type": "markdown",
      "source": [
        "10. Пользователь поочередно вводит координаты точки в декартовой системе координат. Определить, какой четверти принадлежит данная точка или на какой оси она находится. Расположение точки вывести на экран. Найти произведение номера четверти на расстояние от этой точки до начала координат и вывести его на экран. Если точка лежит на оси, считать, что номер четверти равен 0."
      ],
      "metadata": {
        "id": "8ZmZM3gKyuy8"
      }
    },
    {
      "cell_type": "code",
      "source": [
        "x = float(input(\"Введите координату x: \"))\n",
        "y = float(input(\"Введите координату y: \"))\n",
        "\n",
        "# В какой четверти или на какой оси находится точка\n",
        "if x > 0 and y > 0:\n",
        "    quadrant = 1\n",
        "elif x < 0 and y > 0:\n",
        "    quadrant = 2\n",
        "elif x < 0 and y < 0:\n",
        "    quadrant = 3\n",
        "elif x > 0 and y < 0:\n",
        "    quadrant = 4\n",
        "else:\n",
        "    quadrant = 0\n",
        "\n",
        "distance = (x ** 2 + y ** 2) ** 0.5\n",
        "\n",
        "# Произведение номера четверти на расстояние\n",
        "product = quadrant * distance\n",
        "\n",
        "# Результаты\n",
        "print(f\"Точка находится в {quadrant}-й четверти\")\n",
        "print(f\"Расстояние до начала координат: {distance}\")\n",
        "print(f\"Произведение номера четверти на расстояние: {product}\")\n"
      ],
      "metadata": {
        "id": "LtZoNmn00MqG"
      },
      "execution_count": null,
      "outputs": []
    },
    {
      "cell_type": "markdown",
      "source": [
        "11. Выведите значение заданного целого числа от 0 до 999 прописью. Например, «сто девяносто один» для числа 191, «одиннадцать» для числа 11."
      ],
      "metadata": {
        "id": "UKkgV1fU1Qv6"
      }
    },
    {
      "cell_type": "code",
      "source": [
        "def number_to_words(number):\n",
        "    # Словаrри для преобразования чисел в слова\n",
        "    units = [\"\", \"один\", \"два\", \"три\", \"четыре\", \"пять\", \"шесть\", \"семь\", \"восемь\", \"девять\"]\n",
        "    teens = [\"\", \"одиннадцать\", \"двенадцать\", \"тринадцать\", \"четырнадцать\", \"пятнадцать\", \"шестнадцать\", \"семнадцать\", \"восемнадцать\", \"девятнадцать\"]\n",
        "    tens = [\"\", \"десять\", \"двадцать\", \"тридцать\", \"сорок\", \"пятьдесят\", \"шестьдесят\", \"семьдесят\", \"восемьдесят\", \"девяносто\"]\n",
        "    hundreds = [\"\", \"сто\", \"двести\", \"триста\", \"четыреста\", \"пятьсот\", \"шестьсот\", \"семьсот\", \"восемьсот\", \"девятьсот\"]\n",
        "\n",
        "    # Проверяем, что число находится в диапазоне от 0 до 999\n",
        "    if 0 <= number <= 999:\n",
        "        # Выделяем сотни, десятки и единицы\n",
        "        hundreds_digit = number // 100\n",
        "        tens_digit = (number // 10) % 10\n",
        "        units_digit = number % 10\n",
        "\n",
        "        # Создаем строку для хранения результатов\n",
        "        result = \"\"\n",
        "\n",
        "        # Добавляем слово для сотен, если они есть\n",
        "        if hundreds_digit > 0:\n",
        "            result += hundreds[hundreds_digit] + \" \"\n",
        "\n",
        "        # Если десятки больше 1, добавляем десятки и единицы\n",
        "        if tens_digit > 1:\n",
        "            result += tens[tens_digit] + \" \"\n",
        "            result += units[units_digit]\n",
        "        # Если десятки равны 1, добавляем числа от 11 до 19\n",
        "        elif tens_digit == 1:\n",
        "            result += teens[units_digit]\n",
        "        # Если десятки равны 0, добавляем только единицы\n",
        "        else:\n",
        "            result += units[units_digit]\n",
        "\n",
        "        return result.strip()  # Убираем пробел в конце, если есть\n",
        "\n",
        "    else:\n",
        "        return \"Число вне допустимого диапазона (0-999)\"\n",
        "\n",
        "# Введите целое число\n",
        "number = int(input(\"Введите целое число от 0 до 999: \"))\n",
        "\n",
        "# Получаем пропись числа и выводим результат\n",
        "words = number_to_words(number)\n",
        "print(words)\n"
      ],
      "metadata": {
        "colab": {
          "base_uri": "https://localhost:8080/"
        },
        "id": "DSXgbUtS1alt",
        "outputId": "879a150d-70b5-4439-dacc-b1a712b0041a"
      },
      "execution_count": null,
      "outputs": [
        {
          "output_type": "stream",
          "name": "stdout",
          "text": [
            "Введите целое число от 0 до 999: 756\n",
            "семьсот пятьдесят шесть\n"
          ]
        }
      ]
    },
    {
      "cell_type": "markdown",
      "source": [
        "12. Вычислите значение выражения, которое состоит из целых чисел и знаков «+» и «-». Выражение вводится как символьная строка."
      ],
      "metadata": {
        "id": "WM8CWsR7RUvx"
      }
    },
    {
      "cell_type": "code",
      "source": [
        "# Введите выражение в виде символьной строки\n",
        "expression = input(\"Введите выражение (например, '5+3-2'): \")\n",
        "\n",
        "# Используйте eval() для вычисления значения выражения\n",
        "try:\n",
        "    result = eval(expression)\n",
        "    print(f\"Результат: {result}\")\n",
        "except Exception as e:\n",
        "    print(f\"Ошибка в выражении: {e}\")\n"
      ],
      "metadata": {
        "colab": {
          "base_uri": "https://localhost:8080/"
        },
        "id": "Du7bOxBzRnbM",
        "outputId": "78a85939-eb5d-4ea6-dc04-5c41afcd8d6c"
      },
      "execution_count": null,
      "outputs": [
        {
          "output_type": "stream",
          "name": "stdout",
          "text": [
            "Введите выражение (например, '5+3-2'): 7+3-8\n",
            "Результат: 2\n"
          ]
        }
      ]
    },
    {
      "cell_type": "markdown",
      "source": [
        "13. Пользователь поочередно вводит 2 строки. Определите, какая строка длиннее и на сколько символов, а какая строка стоит раньше в лексикографическом порядке. Собрать результирующую строку, которая бы содержала 1 и 2 строки, разделенные переносом строки."
      ],
      "metadata": {
        "id": "jUfZn4VVSvQ8"
      }
    },
    {
      "cell_type": "code",
      "source": [
        "str1 = input(\"Введите первую строку: \")\n",
        "str2 = input(\"Введите вторую строку: \")\n",
        "\n",
        "print(f\"Длина первой строки - {len(str1)}\")\n",
        "print(f\"Длина второй строки - {len(str2)}\")\n",
        "\n",
        "if len(str1) > len(str2):\n",
        "  print(f\"Первая строка больше второй на {len(str1)-len(str2)} символов\")\n",
        "else:\n",
        "  print(f\"Вторая строка больше первой на {len(str2)-len(str1)} символов\")\n",
        "\n",
        "if str1 < str2:\n",
        "    first = str1\n",
        "    second = str2\n",
        "else:\n",
        "    first = str2\n",
        "    second = str1\n",
        "\n",
        "print(f\"Строки в лексикографическом порядке: {first}, {second}\")"
      ],
      "metadata": {
        "colab": {
          "base_uri": "https://localhost:8080/"
        },
        "id": "UBMpGgxvS3MN",
        "outputId": "e63b9f7b-53bb-4247-e1f8-bca334a488d5"
      },
      "execution_count": null,
      "outputs": [
        {
          "output_type": "stream",
          "name": "stdout",
          "text": [
            "Введите первую строку: seryghrt\n",
            "Введите вторую строку: eastrh\n",
            "Длина первой строки - 8\n",
            "Длина второй строки - 6\n",
            "Первая строка больше второй на 2 символов\n",
            "Строки в лексикографическом порядке: eastrh, seryghrt\n"
          ]
        }
      ]
    },
    {
      "cell_type": "markdown",
      "source": [
        "14. Реализовать калькулятор, который принимает от пользователя через пробел строку следующего вида: «a op b», где a и b – некоторые числа, а ‘op’ определяет оператор и может принимать значения $«+,-,*,/,**,%»$. В зависимости от оператора с помощью форматирования строк вывести результат в виде: «a + b = 3 + 2 = 5», где была получена строка «3 + 2». Для операций возведения в степень и деления по модулю использовать вместо знака оператора соответствующие выражения. Например, для строки «2 ** 3» должно быть выведено «a в степени b = 2 в степени 3 = 8»."
      ],
      "metadata": {
        "id": "PThvsb6yadc5"
      }
    },
    {
      "cell_type": "code",
      "source": [
        "expression = input(\"Введите выражение в формате 'a op b': \")\n",
        "\n",
        "# Разбейте строку на части, удаляя пробелы\n",
        "parts = expression.split()\n",
        "\n",
        "if len(parts) != 3:\n",
        "    print(\"Неверный формат выражения. Введите выражение в формате 'a op b'.\")\n",
        "else:\n",
        "    a = float(parts[0])\n",
        "    op = parts[1]\n",
        "    b = float(parts[2])\n",
        "\n",
        "    result = None\n",
        "\n",
        "    # Выполняем вычисления в зависимости от оператора\n",
        "    if op == '+':\n",
        "        result = a + b\n",
        "    elif op == '-':\n",
        "        result = a - b\n",
        "    elif op == '*':\n",
        "        result = a * b\n",
        "    elif op == '/':\n",
        "        if b != 0:\n",
        "            result = a / b\n",
        "        else:\n",
        "            print(\"Ошибка: деление на ноль.\")\n",
        "    elif op == '**':\n",
        "        result = a ** b\n",
        "    elif op == '%':\n",
        "        if b != 0:\n",
        "            result = a % b\n",
        "        else:\n",
        "            print(\"Ошибка: деление по модулю на ноль.\")\n",
        "    else:\n",
        "        print(\"Неподдерживаемый оператор. Поддерживаются: +, -, *, /, **, %.\")\n",
        "\n",
        "    if result is not None:\n",
        "        # Форматируем строку вывода\n",
        "        formatted_string = f\"{a} {op} {b} = {result}\"\n",
        "        print(formatted_string)\n"
      ],
      "metadata": {
        "id": "8z9N_j7TajXf",
        "colab": {
          "base_uri": "https://localhost:8080/"
        },
        "outputId": "04097f0c-c3d0-47b8-976c-74eba2ed95eb"
      },
      "execution_count": null,
      "outputs": [
        {
          "output_type": "stream",
          "name": "stdout",
          "text": [
            "Введите выражение в формате 'a op b': 7 * 3\n",
            "7.0 * 3.0 = 21.0\n"
          ]
        }
      ]
    },
    {
      "cell_type": "markdown",
      "source": [
        "15. Напишите программу, которая в зависимости от введенного пользователем числа N, осуществляет вывод N кошек на экран. Пусть 1<= N <=10. Примечание: кошки при N=3 выглядят примерно так\n",
        "```\n",
        " /\\__/\\ /\\__/\\ /\\__/\\\n",
        " /@ @\\ /@ @\\ /@ @\\\n",
        " (~~0~~) (~~0~~) (~~0~~)\n"
      ],
      "metadata": {
        "id": "DQLso-BcbUjX"
      }
    },
    {
      "cell_type": "code",
      "source": [
        "N = int(input(\"Введите число кошек (от 1 до 10): \"))\n",
        "\n",
        "if 1 <= N <= 10:\n",
        "\n",
        "    cat = r'''\n",
        " /\\__/\\\n",
        " /@ @\\\n",
        "(~~0~~)\n",
        "'''\n",
        "    cats_in_row = cat * N\n",
        "    print(cats_in_row)` `\n",
        "else:\n",
        "    print(\"Некорректное число кошек. Введите число от 1 до 10.\")\n"
      ],
      "metadata": {
        "colab": {
          "base_uri": "https://localhost:8080/"
        },
        "id": "-qtZ45bYcC82",
        "outputId": "ea83b830-394e-497d-db21-e1e4c94fc318"
      },
      "execution_count": null,
      "outputs": [
        {
          "output_type": "stream",
          "name": "stdout",
          "text": [
            "Введите число кошек (от 1 до 10): 3\n",
            "\n",
            " /\\__/\\\n",
            " /@ @\\\n",
            "(~~0~~)\n",
            "\n",
            " /\\__/\\\n",
            " /@ @\\\n",
            "(~~0~~)\n",
            "\n",
            " /\\__/\\\n",
            " /@ @\\\n",
            "(~~0~~)\n",
            "\n"
          ]
        }
      ]
    },
    {
      "cell_type": "markdown",
      "source": [
        "16. Имеются два n – мерных вектора x и y, которые задают координаты n точек на плоскости (случайные целые числа). Найти наиболее близкие друг другу точки."
      ],
      "metadata": {
        "id": "EuxOffiyLNcZ"
      }
    },
    {
      "cell_type": "code",
      "source": [
        "import math\n",
        "\n",
        "def euclidean_distance(point1, point2):\n",
        "    # Вычисляем Евклидово расстояние между двумя точками\n",
        "    distance = math.sqrt(sum((x - y) ** 2 for x, y in zip(point1, point2)))\n",
        "    return distance\n",
        "\n",
        "def find_closest_points(x, y):\n",
        "    min_distance = float('inf')  # Начальное значение минимального расстояния\n",
        "    closest_points = None\n",
        "\n",
        "    # Проходим по всем парам точек из векторов x и y\n",
        "    for point1 in x:\n",
        "        for point2 in y:\n",
        "            distance = euclidean_distance(point1, point2)\n",
        "            if distance < min_distance:\n",
        "                min_distance = distance\n",
        "                closest_points = (point1, point2)\n",
        "\n",
        "    return closest_points\n",
        "\n",
        "# Пример использования\n",
        "x = [(1, 2), (3, 4), (5, 6)]\n",
        "y = [(2, 3), (4, 5), (6, 7)]\n",
        "\n",
        "closest = find_closest_points(x, y)\n",
        "print(\"Наиболее близкие точки:\", closest)\n"
      ],
      "metadata": {
        "colab": {
          "base_uri": "https://localhost:8080/"
        },
        "id": "UkHYcRZ8LSh3",
        "outputId": "feb3ffe8-0fd2-45fa-aa15-e4905a26ef08"
      },
      "execution_count": null,
      "outputs": [
        {
          "output_type": "stream",
          "name": "stdout",
          "text": [
            "Наиболее близкие точки: ((1, 2), (2, 3))\n"
          ]
        }
      ]
    },
    {
      "cell_type": "markdown",
      "source": [
        "17. Из множества целых чисел от 1 до N выделить множество N2 числа, кратные 2, множество N3 – кратные 3, множество N 6 – кратные 6 (т.е. кратные и 2 и 3), множество N 23 – кратные либо 2, либо 3."
      ],
      "metadata": {
        "id": "M8cNSeaMMjHM"
      }
    },
    {
      "cell_type": "code",
      "source": [
        "N = int(input(\"Введите значение N: \"))\n",
        "\n",
        "# Создаем списки для множеств N2, N3, N6 и N23\n",
        "N2 = []\n",
        "N3 = []\n",
        "N6 = []\n",
        "N23 = []\n",
        "\n",
        "# Перебираем числа от 1 до N\n",
        "for num in range(1, N + 1):\n",
        "    # Проверяем, кратное ли число 2\n",
        "    if num % 2 == 0:\n",
        "        N2.append(num)\n",
        "\n",
        "    # Проверяем, кратное ли число 3\n",
        "    if num % 3 == 0:\n",
        "        N3.append(num)\n",
        "\n",
        "    # Проверяем, кратное ли число и 2, и 3 (6)\n",
        "    if num % 2 == 0 and num % 3 == 0:\n",
        "        N6.append(num)\n",
        "\n",
        "    # Проверяем, кратное ли число 2 или 3\n",
        "    if num % 2 == 0 or num % 3 == 0:\n",
        "        N23.append(num)\n",
        "\n",
        "# Преобразуем списки в множества\n",
        "N2 = set(N2)\n",
        "N3 = set(N3)\n",
        "N6 = set(N6)\n",
        "N23 = set(N23)\n",
        "\n",
        "# Выводим результаты\n",
        "print(\"Множество N2 (кратные 2):\", N2)\n",
        "print(\"Множество N3 (кратные 3):\", N3)\n",
        "print(\"Множество N6 (кратные 6):\", N6)\n",
        "print(\"Множество N23 (кратные 2 или 3):\", N23)\n"
      ],
      "metadata": {
        "colab": {
          "base_uri": "https://localhost:8080/"
        },
        "id": "nEOjp8eCMjpN",
        "outputId": "032b7b7a-6dea-4605-fa23-284841af8dfe"
      },
      "execution_count": null,
      "outputs": [
        {
          "output_type": "stream",
          "name": "stdout",
          "text": [
            "Введите значение N: 8\n",
            "Множество N2 (кратные 2): {8, 2, 4, 6}\n",
            "Множество N3 (кратные 3): {3, 6}\n",
            "Множество N6 (кратные 6): {6}\n",
            "Множество N23 (кратные 2 или 3): {2, 3, 4, 6, 8}\n"
          ]
        }
      ]
    },
    {
      "cell_type": "markdown",
      "source": [
        "18. Даны m (m>1) слов. Найти общее количество заданной буквы в этих словах."
      ],
      "metadata": {
        "id": "-y9dSmLXNk0u"
      }
    },
    {
      "cell_type": "code",
      "source": [
        "words = [\"apple\", \"banana\", \"cherry\", \"date\", \"cranberry\"]\n",
        "\n",
        "# Заданная буква, количество которой нужно подсчитать\n",
        "letter_to_count = input()\n",
        "\n",
        "# Инициализируем переменную для хранения общего количества\n",
        "total_count = 0\n",
        "\n",
        "# Проходим по каждому слову в списке\n",
        "for word in words:\n",
        "    # Используем метод count() для подсчета заданной буквы в текущем слове\n",
        "    count_in_word = word.count(letter_to_count)\n",
        "\n",
        "    # Добавляем количество заданной буквы в общее количество\n",
        "    total_count += count_in_word\n",
        "\n",
        "# Выводим общее количество заданной буквы\n",
        "print(f\"Общее количество букв '{letter_to_count}' в словах: {total_count}\")\n"
      ],
      "metadata": {
        "id": "nfmSHqC7Nm7T"
      },
      "execution_count": null,
      "outputs": []
    },
    {
      "cell_type": "markdown",
      "source": [
        "19. Даны m (m>1) слов. В каком из них доля (в %) заданной буквы больше."
      ],
      "metadata": {
        "id": "UPXAIyMmOT2c"
      }
    },
    {
      "cell_type": "code",
      "source": [
        "words = [\"apple\", \"banana\", \"cherry\", \"date\", \"cranberry\"]\n",
        "\n",
        "# Заданная буква, долю которой нужно вычислить\n",
        "letter_to_compare = input()\n",
        "\n",
        "# Инициализируем переменные для хранения информации о слове с наибольшей долей\n",
        "max_word = \"\"\n",
        "max_percentage = 0\n",
        "\n",
        "for word in words:\n",
        "    # Используем метод count() для подсчета заданной буквы в текущем слове\n",
        "    count_in_word = word.count(letter_to_compare)\n",
        "\n",
        "    # Вычисляем долю заданной буквы в текущем слове в процентах\n",
        "    word_length = len(word)\n",
        "    percentage = (count_in_word / word_length) * 100\n",
        "\n",
        "    # Проверяем, больше ли текущая доля максимальной найденной доли\n",
        "    if percentage > max_percentage:\n",
        "        max_word = word\n",
        "        max_percentage = percentage\n",
        "\n",
        "# Выводим слово с наибольшей долей заданной буквы и саму долю\n",
        "print(f\"Слово с наибольшей долей буквы '{letter_to_compare}': {max_word}\")\n",
        "print(f\"Доля буквы '{letter_to_compare}' в этом слове: {max_percentage:.2f}%\")\n"
      ],
      "metadata": {
        "id": "I9q9LpBPREbV",
        "colab": {
          "base_uri": "https://localhost:8080/"
        },
        "outputId": "7201ffb1-ee24-4a83-f30e-533f503ce7bc"
      },
      "execution_count": null,
      "outputs": [
        {
          "output_type": "stream",
          "name": "stdout",
          "text": [
            "a\n",
            "Слово с наибольшей долей буквы 'a': banana\n",
            "Доля буквы 'a' в этом слове: 50.00%\n"
          ]
        }
      ]
    }
  ],
  "metadata": {
    "kernelspec": {
      "display_name": "Python 3 (ipykernel)",
      "language": "python",
      "name": "python3"
    },
    "language_info": {
      "codemirror_mode": {
        "name": "ipython",
        "version": 3
      },
      "file_extension": ".py",
      "mimetype": "text/x-python",
      "name": "python",
      "nbconvert_exporter": "python",
      "pygments_lexer": "ipython3",
      "version": "3.9.7"
    },
    "toc": {
      "base_numbering": 1,
      "nav_menu": {},
      "number_sections": true,
      "sideBar": true,
      "skip_h1_title": false,
      "title_cell": "Table of Contents",
      "title_sidebar": "Contents",
      "toc_cell": true,
      "toc_position": {},
      "toc_section_display": true,
      "toc_window_display": false
    },
    "varInspector": {
      "cols": {
        "lenName": 16,
        "lenType": 16,
        "lenVar": 40
      },
      "kernels_config": {
        "python": {
          "delete_cmd_postfix": "",
          "delete_cmd_prefix": "del ",
          "library": "var_list.py",
          "varRefreshCmd": "print(var_dic_list())"
        },
        "r": {
          "delete_cmd_postfix": ") ",
          "delete_cmd_prefix": "rm(",
          "library": "var_list.r",
          "varRefreshCmd": "cat(var_dic_list()) "
        }
      },
      "types_to_exclude": [
        "module",
        "function",
        "builtin_function_or_method",
        "instance",
        "_Feature"
      ],
      "window_display": false
    },
    "colab": {
      "provenance": [],
      "include_colab_link": true
    }
  },
  "nbformat": 4,
  "nbformat_minor": 0
}