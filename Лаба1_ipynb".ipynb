{
  "cells": [
    {
      "cell_type": "markdown",
      "metadata": {
        "id": "view-in-github",
        "colab_type": "text"
      },
      "source": [
        "<a href=\"https://colab.research.google.com/github/kirnaq/Analysis/blob/main/%D0%9B%D0%B0%D0%B1%D0%B01_ipynb%22.ipynb\" target=\"_parent\"><img src=\"https://colab.research.google.com/assets/colab-badge.svg\" alt=\"Open In Colab\"/></a>"
      ]
    },
    {
      "cell_type": "markdown",
      "metadata": {
        "toc": true,
        "id": "owoar0hMF-E3"
      },
      "source": [
        "<h1>Table of Contents<span class=\"tocSkip\"></span></h1>\n",
        "<div class=\"toc\"><ul class=\"toc-item\"><li><span><a href=\"#Тема-1.-Введение-в-программирование-на-языке-Python\" data-toc-modified-id=\"Тема-1.-Введение-в-программирование-на-языке-Python-1\"><span class=\"toc-item-num\">1&nbsp;&nbsp;</span>Тема 1. Введение в программирование на языке Python</a></span></li><li><span><a href=\"#Задания\" data-toc-modified-id=\"Задания-2\"><span class=\"toc-item-num\">2&nbsp;&nbsp;</span>Задания</a></span></li><li><span><a href=\"#1.-Числовые-и-строковые-типы-данных-языка-Python.-Управляющие-конструкции.\" data-toc-modified-id=\"1.-Числовые-и-строковые-типы-данных-языка-Python.-Управляющие-конструкции.-3\"><span class=\"toc-item-num\">3&nbsp;&nbsp;</span>1. Числовые и строковые типы данных языка Python. Управляющие конструкции.</a></span><ul class=\"toc-item\"><li><span><a href=\"#1.1.-Работа-с-числами.-Базовые-числовые-типы-int-и-float\" data-toc-modified-id=\"1.1.-Работа-с-числами.-Базовые-числовые-типы-int-и-float-3.1\"><span class=\"toc-item-num\">3.1&nbsp;&nbsp;</span>1.1. Работа с числами. Базовые числовые типы int и float</a></span></li><li><span><a href=\"#1.2.-Строки,-функции-и-методы-работы-со-строками\" data-toc-modified-id=\"1.2.-Строки,-функции-и-методы-работы-со-строками-3.2\"><span class=\"toc-item-num\">3.2&nbsp;&nbsp;</span>1.2. Строки, функции и методы работы со строками</a></span></li></ul></li></ul></div>"
      ]
    },
    {
      "cell_type": "markdown",
      "source": [],
      "metadata": {
        "id": "SGA4-QJMJx7i"
      }
    },
    {
      "cell_type": "markdown",
      "metadata": {
        "id": "11WpmJ-VF-E6"
      },
      "source": [
        "\n",
        "# Тема 1. Введение в программирование на языке Python"
      ]
    },
    {
      "cell_type": "markdown",
      "metadata": {
        "id": "72cAiA1uF-E7"
      },
      "source": [
        "# Задания\n",
        "\n",
        "Выполните задания\n",
        "\n",
        "# 1. Числовые и строковые типы данных языка Python. Управляющие конструкции.\n",
        "\n",
        "## 1.1. Работа с числами. Базовые числовые типы int и float\n",
        "\n",
        "1. Значения переменных А и В ввести с клавиатуры и вывести на экран. После этого значения меняются местами, т.е. A нужно присвоить значение B, а B – значение A, и вновь значения переменных вывести на экран.\n",
        "\n",
        "2. Значение x вводится с клавиатуры. Вычислите $y=(x+1)^2\\cdot \\sqrt{x^3+1}$ Выведите на экран значения $x$ и $y$ с тремя знаками после запятой.\n",
        "\n",
        "3. Вычислите сумму цифр пятизначного числа.\n",
        "\n",
        "4. Для заданного трехзначного числа выведите число, у которого цифры идут в обратном порядке, например, для числа 123 ответ 321.\n",
        "\n",
        "5. Ввести координаты 2 точек: $(x_1,y_1)$ и $(x_2,y_2)$. Вычислите расстояние между этими точками.  Результат выведите с 5 знаками после запятой.\n",
        "\n",
        "6. Разработать программу вычисления по известному радиусу площади круга и длины окружности.\n",
        "\n",
        "7. Разработать программу по вычислению площади кольца по известным значениям его внешнего и внутреннего радиусов.\n",
        "\n",
        "8. Разработать программу вычисления радиуса круга и его площади по известной длине окружности.\n",
        "\n",
        "9. Разработать программу вычисления объема шара: а) по радиусу; б) по длине его экваториальной параллели. Объём шара рассчитывается по формуле $V=\\frac{4}{3}\\pi{r^3}$, где $r$ - радиус.\n",
        "\n",
        "10. Имеются два $n$–мерных вектора $x$ и $y$, которые задают координаты $n$ точек на плоскости (случайные целые числа). Найти наиболее близкие друг другу точки.\n",
        "\n",
        "11. Треугольник задан координатами своих вершин: $(x_1,y_1),(x_2,y_2),(x_3,y_3)$. Значения координат определите с помощью присваивания. Они могут быть нецелыми. Найти периметр и площадь треугольника.\n",
        "\n",
        "12. Пусть пользователь вводит 5 чисел: а, b, c, d, e. Реализуйте программу расчета выражения вида $res=\\frac{a+bc}{2d-e}+Ost[b^e/c]$, где $Ost$ - остаток от деления. Учесть невозможность деления на 0.\n",
        "\n",
        "\n",
        "## 1.2. Строки, функции и методы работы со строками\n",
        "\n",
        "1. Введите строку, состоящую из двух цифр. Преобразуйте ее в целое и вещественное число. Выведите полученные три значения (строку, целое число, вещественное число) на экран в одной строке через запятую, затем пропустите строку и вновь выведите значения по одному на строке. Перед каждым значением выведите его тип.\n",
        "\n",
        "2. Для строки 'Финансовый университет' двумя способами получить подстроку с 1-го по 4-й символы включительно.\n",
        "\n",
        "3. Составить строку из всех четных символов строки 'Финансовый университет'.\n",
        "\n",
        "4. Получить подстроку неизвестной заранее строки, содержащую половину символов строки и расположенную посередине строки.\n",
        "\n",
        "5. Коротко записать создание строки 'oneoneoneoneoneonetwotwotwo'\n",
        "\n",
        "6. Для введенной строки выведите (на отдельной строке):\n",
        "- второй символ этой строки;\n",
        "- предпоследний символ этой строки;\n",
        "- всю строку, кроме последних двух символов;\n",
        "- все символы с четными индексами (считая, что индексация начинается с 0, поэтому символы выводятся, начиная с первого);\n",
        "- все символы с нечетными индексами, то есть начиная со второго символа строки;\n",
        "- все символы в обратном порядке;\n",
        "- все символы строки через один в обратном порядке, начиная с последнего;\n",
        "- длину данной строки.\n",
        "\n",
        "7. Не используя метод count, для заданной строки выполните:\n",
        "- если символ * в данной строке отсутствует, выведите текст «нет символа»;\n",
        "- если символ * встречается в строке только один раз, выведите его индекс;\n",
        "- если символ * встречается два и более раз, выведите индекс его первого, второго и последнего вхождения, удалите первый и последний символ * из строки.\n",
        "\n",
        "8. Дана строка, состоящая из слов, разделенных пробелами. В этой строке:\n",
        "- удалите все лишние пробелы (в начале, в конце, между словами оставить ровно один пробел);\n",
        "- поменяйте регистр символов (строчные сделать прописными, прописные – строчными);\n",
        "- определите, сколько в ней слов.\n",
        "\n",
        "9. Строка содержит фамилию, имя и отчество, записанные через пробелы. Например «Иванов Иван Иванович». Для этой строки:\n",
        "- выведите информацию в виде:\n",
        "```\n",
        "Фамилия       Иванов\n",
        "Имя           Иван\n",
        "Отчество      Иванович\n",
        "```\n",
        "- получите строки вида «Иванов И.И.» и «И.И. Иванов».\n",
        "\n",
        "10. Напишите программу, которая осуществляет вывод кошки на экран. Примечание: кошка выглядят примерно так:\n",
        "```\n",
        "         /\\_/\\\n",
        "         /@ @\\\n",
        "        (~~0~~)\n",
        "\n",
        " ```\n",
        "\n",
        "11. Для двух произвольных строк провести сравнение на совпадение содержимого без учета регистра букв и начальных и конечных пробельных символов. Например, для двух строк ' HeLLO WOrlD' и 'hello WORLD ' такое сравнение должно возвращать True (содержание строк совпадает).\n",
        "\n",
        "12. По номеру года определите, является ли данный год високосным. (год является високосным, если его номер кратен 4, но не кратен 100, а также если он кратен 400).\n",
        "\n",
        "18. Даны точки $A=(1,1),B=(5,5),C=(1,4),D=(7,2)$. Найти точку пересечения отрезков $AB$ и $CD$."
      ]
    },
    {
      "cell_type": "markdown",
      "source": [
        "# 1. Значения переменных А и В ввести с клавиатуры и вывести на экран. После этого значения меняются местами, т.е. A нужно присвоить значение B, а B – значение A, и вновь значения переменных вывести на экран."
      ],
      "metadata": {
        "id": "CmhFJ8fWMl84"
      }
    },
    {
      "cell_type": "code",
      "source": [
        "A = input(\"input cena: \")\n",
        "B = input(\"input kolichestvo: \")\n",
        "print(\"cena =\", A)\n",
        "print(\"kolichestvo =\", B)\n",
        "\n",
        "A,B=B,A\n",
        "\n",
        "print(\"После смены местами:\")\n",
        "print(\"cena =\", A)\n",
        "print(\"kolichestvo =\", B)"
      ],
      "metadata": {
        "colab": {
          "base_uri": "https://localhost:8080/"
        },
        "id": "VMcPdt9RJ1N0",
        "outputId": "6a6c37c9-2eb9-4188-d77b-47638ba3cb4d"
      },
      "execution_count": null,
      "outputs": [
        {
          "output_type": "stream",
          "name": "stdout",
          "text": [
            "значение cena: 45\n",
            "значение kolichestvo: 65\n",
            "cena = 45\n",
            "kolichestvo = 65\n",
            "После смены местами:\n",
            "cena = 65\n",
            "kolichestvo = 45\n"
          ]
        }
      ]
    },
    {
      "cell_type": "markdown",
      "source": [
        "2. Значение x вводится с клавиатуры. Вычислите $y=(x+1)^2\\cdot \\sqrt{x^3+1}$ Выведите на экран значения $x$ и $y$ с тремя знаками после запятой."
      ],
      "metadata": {
        "id": "ophxuQTkM4Im"
      }
    },
    {
      "cell_type": "code",
      "source": [
        "x = float(input (\"Введите значение x = \"))\n",
        "print(\"x=\",format(x, \".3f\"))\n",
        "\n",
        "y=float(((x+1)**2)*((x**3)+1)**(1/2))\n",
        "print(\"y=\",format(y, \".3f\"))"
      ],
      "metadata": {
        "colab": {
          "base_uri": "https://localhost:8080/"
        },
        "id": "7IX-0WZyNDYb",
        "outputId": "a159db27-5a82-487c-9425-c233e64b3e9b"
      },
      "execution_count": null,
      "outputs": [
        {
          "output_type": "stream",
          "name": "stdout",
          "text": [
            "Введите значение x = 4\n",
            "x= 4.000\n",
            "y= 201.556\n"
          ]
        }
      ]
    },
    {
      "cell_type": "markdown",
      "source": [
        "3. Вычислите сумму цифр пятизначного числа."
      ],
      "metadata": {
        "id": "DJhF3cMDPVcq"
      }
    },
    {
      "cell_type": "code",
      "source": [
        "g = int(input(\"Введите пятизначное число = \"))\n",
        "\n",
        "a = g%10\n",
        "b = g//10%10\n",
        "c = g//10//10&10\n",
        "d = g//10//10//10&10\n",
        "e = g//10//10//10//10%10\n",
        "\n",
        "print(f\"{a}+{b}+{c}+{d}+{e}={a+b+c+d+e}\")"
      ],
      "metadata": {
        "colab": {
          "base_uri": "https://localhost:8080/"
        },
        "id": "z1zHXqC_PcDu",
        "outputId": "e029c26c-bd42-4206-cd88-19dc304b5ce5"
      },
      "execution_count": null,
      "outputs": [
        {
          "output_type": "stream",
          "name": "stdout",
          "text": [
            "Введите пятизначное число = 37536\n",
            "6+3+2+0+3=14\n"
          ]
        }
      ]
    },
    {
      "cell_type": "markdown",
      "source": [
        "4. Получить подстроку неизвестной заранее строки, содержащую половину символов строки и расположенную посередине строки."
      ],
      "metadata": {
        "id": "3w2kP35sRKeS"
      }
    },
    {
      "cell_type": "code",
      "source": [
        "input_string = input(\"Введите строку: \")\n",
        "length = len(input_string)\n",
        "\n",
        "middle_index = length // 2\n",
        "if length % 2 == 0:\n",
        "    result_substring = input_string[middle_index - length // 4:middle_index + length // 4]\n",
        "else:\n",
        "    result_substring = input_string[middle_index - length // 4:middle_index + length // 4 + 1]\n",
        "\n",
        "print(\"Полученная подстрока:\", result_substring)\n"
      ],
      "metadata": {
        "id": "YK2HRmyQRR6F",
        "colab": {
          "base_uri": "https://localhost:8080/"
        },
        "outputId": "70e38910-8a6b-409f-8af5-5a900c18c431"
      },
      "execution_count": null,
      "outputs": [
        {
          "output_type": "stream",
          "name": "stdout",
          "text": [
            "Введите строку: abcdefg\n",
            "Полученная подстрока: cde\n"
          ]
        }
      ]
    },
    {
      "cell_type": "markdown",
      "source": [
        "5. Ввести координаты 2 точек:  (x1,y1)  и  (x2,y2) . Вычислите расстояние между этими точками. Результат выведите с 5 знаками после запятой."
      ],
      "metadata": {
        "id": "zDZ7VyVhXLJM"
      }
    },
    {
      "cell_type": "code",
      "source": [
        "import math\n",
        "\n",
        "x1 = float(input(\"Введите x-координату первой точки: \"))\n",
        "y1 = float(input(\"Введите y-координату первой точки: \"))\n",
        "\n",
        "x2 = float(input(\"Введите x-координату второй точки: \"))\n",
        "y2 = float(input(\"Введите y-координату второй точки: \"))\n",
        "\n",
        "distance = math.sqrt((x2 - x1) ** 2 + (y2 - y1) ** 2)\n",
        "\n",
        "print(f\"Расстояние между точками ({x1},{y1}) и ({x2},{y2}) равно {distance:.5f}\")\n"
      ],
      "metadata": {
        "colab": {
          "base_uri": "https://localhost:8080/"
        },
        "id": "yekffMiMXQyd",
        "outputId": "5f8160a1-aef1-4b58-c127-9588b7af2b22"
      },
      "execution_count": null,
      "outputs": [
        {
          "output_type": "stream",
          "name": "stdout",
          "text": [
            "Введите x-координату первой точки: 5\n",
            "Введите y-координату первой точки: 4\n",
            "Введите x-координату второй точки: 6\n",
            "Введите y-координату второй точки: 2\n",
            "Расстояние между точками (5.0,4.0) и (6.0,2.0) равно 2.23607\n"
          ]
        }
      ]
    },
    {
      "cell_type": "markdown",
      "source": [
        "6. Разработать программу вычисления по известному радиусу площади круга и длины окружности."
      ],
      "metadata": {
        "id": "WRDbly_MYPhw"
      }
    },
    {
      "cell_type": "code",
      "source": [
        "import math\n",
        "\n",
        "radius = float(input(\"Введите радиус круга: \"))\n",
        "\n",
        "ploshad = math.pi * (radius ** 2)\n",
        "\n",
        "dlina = 2 * math.pi * radius\n",
        "\n",
        "print(f\"Площадь круга с радиусом {radius} равна {ploshad:.2f}\")\n",
        "print(f\"Длина окружности с радиусом {radius} равна {dlina:.2f}\")\n"
      ],
      "metadata": {
        "colab": {
          "base_uri": "https://localhost:8080/"
        },
        "id": "3mJ6Dyv5YUqR",
        "outputId": "46ab8ca6-c32d-432d-86df-0e7fcd73be6b"
      },
      "execution_count": null,
      "outputs": [
        {
          "output_type": "stream",
          "name": "stdout",
          "text": [
            "Введите радиус круга: 4\n",
            "Площадь круга с радиусом 4.0 равна 50.27\n",
            "Длина окружности с радиусом 4.0 равна 25.13\n"
          ]
        }
      ]
    },
    {
      "cell_type": "markdown",
      "source": [
        "7. Разработать программу по вычислению площади кольца по известным значениям его внешнего и внутреннего радиусов."
      ],
      "metadata": {
        "id": "d_PO2KT1ZMHH"
      }
    },
    {
      "cell_type": "code",
      "source": [
        "import math\n",
        "\n",
        "outer_radius = float(input(\"Введите внешний радиус кольца: \"))\n",
        "inner_radius = float(input(\"Введите внутренний радиус кольца: \"))\n",
        "\n",
        "if outer_radius <= inner_radius:\n",
        "    print(\"Ошибка: Внешний радиус должен быть больше внутреннего радиуса.\")\n",
        "else:\n",
        "    area = math.pi * (outer_radius ** 2 - inner_radius ** 2)\n",
        "\n",
        "    print(f\"Площадь кольца с внешним радиусом {outer_radius} и внутренним радиусом {inner_radius} равна {area:.2f}\")\n"
      ],
      "metadata": {
        "colab": {
          "base_uri": "https://localhost:8080/"
        },
        "id": "08c5Mks0ZLuN",
        "outputId": "a989e1e5-d428-4827-aeac-910c168afe87"
      },
      "execution_count": null,
      "outputs": [
        {
          "output_type": "stream",
          "name": "stdout",
          "text": [
            "Введите внешний радиус кольца: 7\n",
            "Введите внутренний радиус кольца: 4\n",
            "Площадь кольца с внешним радиусом 7.0 и внутренним радиусом 4.0 равна 103.67\n"
          ]
        }
      ]
    },
    {
      "cell_type": "markdown",
      "source": [
        "8. Разработать программу вычисления радиуса круга и его площади по известной длине окружности."
      ],
      "metadata": {
        "id": "k84O91j1acnR"
      }
    },
    {
      "cell_type": "code",
      "source": [
        "import math\n",
        "\n",
        "circumference = float(input(\"Введите длину окружности: \"))\n",
        "\n",
        "if circumference <= 0:\n",
        "    print(\"Ошибка: Длина окружности должна быть положительным числом.\")\n",
        "else:\n",
        "    radius = circumference / (2 * math.pi)\n",
        "\n",
        "    area = math.pi * (radius ** 2)\n",
        "\n",
        "    print(f\"Радиус круга с длиной окружности {circumference} равен {radius:.2f}\")\n",
        "    print(f\"Площадь круга с длиной окружности {circumference} равна {area:.2f}\")\n"
      ],
      "metadata": {
        "colab": {
          "base_uri": "https://localhost:8080/"
        },
        "id": "GwGSCr3KZnWk",
        "outputId": "a4837e0b-371b-4627-c0b2-fa74d7dc693c"
      },
      "execution_count": null,
      "outputs": [
        {
          "output_type": "stream",
          "name": "stdout",
          "text": [
            "Введите длину окружности: 7\n",
            "Радиус круга с длиной окружности 7.0 равен 1.11\n",
            "Площадь круга с длиной окружности 7.0 равна 3.90\n"
          ]
        }
      ]
    },
    {
      "cell_type": "markdown",
      "source": [
        "9. Разработать программу вычисления объема шара: а) по радиусу; б) по длине его экваториальной параллели. Объём шара рассчитывается по формуле  V=4/3πr3 , где  r  - радиус."
      ],
      "metadata": {
        "id": "CSpDw06zbXH4"
      }
    },
    {
      "cell_type": "code",
      "source": [
        "import math\n",
        "\n",
        "option = input(\"Выберите способ ввода (а или б): \")\n",
        "\n",
        "if option.lower() == \"а\":\n",
        "    radius = float(input(\"Введите радиус шара: \"))\n",
        "    volume = (4/3) * math.pi * (radius ** 3)\n",
        "    print(f\"Объем шара с радиусом {radius} равен {volume:.2f}\")\n",
        "\n",
        "elif option.lower() == \"б\":\n",
        "    equatorial_circumference = float(input(\"Введите длину экваториальной параллели шара: \"))\n",
        "    radius = equatorial_circumference / (2 * math.pi)\n",
        "    volume = (4/3) * math.pi * (radius ** 3)\n",
        "    print(f\"Объем шара с длиной экваториальной параллели {equatorial_circumference} равен {volume:.2f}\")\n",
        "\n",
        "else:\n",
        "    print(\"Ошибка: Неправильный выбор способа ввода. Используйте 'а' или 'б'.\")"
      ],
      "metadata": {
        "colab": {
          "base_uri": "https://localhost:8080/"
        },
        "id": "LvAHwjBWbb4a",
        "outputId": "3ff4352c-1408-459a-fb08-4912609587e1"
      },
      "execution_count": null,
      "outputs": [
        {
          "output_type": "stream",
          "name": "stdout",
          "text": [
            "Выберите способ ввода (а или б): а\n",
            "Введите радиус шара: 6\n",
            "Объем шара с радиусом 6.0 равен 904.78\n"
          ]
        }
      ]
    },
    {
      "cell_type": "markdown",
      "source": [
        "10. Имеются два  n –мерных вектора  x  и  y , которые задают координаты  n  точек на плоскости (случайные целые числа). Найти наиболее близкие друг другу точки."
      ],
      "metadata": {
        "id": "L4qQijUmbEEO"
      }
    },
    {
      "cell_type": "code",
      "source": [
        "import math\n",
        "import random\n",
        "\n",
        "def distance(x, y):\n",
        "    #Вычисляет Евклидово расстояние между двумя точками\n",
        "    return math.sqrt(sum((a - b) ** 2 for a, b in zip(x, y)))\n",
        "\n",
        "def closest_points(points):\n",
        "    #Находит наиболее близкие друг другу точки из заданного списка\n",
        "    min_distance = float('inf')  # Начальное значение минимального расстояния\n",
        "    closest_pair = None\n",
        "\n",
        "    for i in range(len(points)):\n",
        "        for j in range(i + 1, len(points)):\n",
        "            dist = distance(points[i], points[j])\n",
        "            if dist < min_distance:\n",
        "                min_distance = dist\n",
        "                closest_pair = (points[i], points[j])\n",
        "\n",
        "    return closest_pair\n",
        "\n",
        "# Генерация случайных точек\n",
        "n = 10  # Количество точек\n",
        "points = [[random.randint(0, 100) for _ in range(2)] for _ in range(n)]\n",
        "\n",
        "# Поиск наиболее близких точек\n",
        "closest = closest_points(points)\n",
        "print(\"Наиболее близкие точки:\", closest)"
      ],
      "metadata": {
        "colab": {
          "base_uri": "https://localhost:8080/"
        },
        "id": "lmF4p3NHJSzI",
        "outputId": "638209a4-f6fd-4d4c-b10c-1618bcf4e3a4"
      },
      "execution_count": null,
      "outputs": [
        {
          "output_type": "stream",
          "name": "stdout",
          "text": [
            "Наиболее близкие точки: ([65, 36], [70, 24])\n"
          ]
        }
      ]
    },
    {
      "cell_type": "markdown",
      "source": [
        "11. Треугольник задан координатами своих вершин:  (x1,y1),(x2,y2),(x3,y3) . Значения координат определите с помощью присваивания. Они могут быть нецелыми. Найти периметр и площадь треугольника."
      ],
      "metadata": {
        "id": "hwqoJDCSeNG2"
      }
    },
    {
      "cell_type": "code",
      "source": [
        "import math\n",
        "\n",
        "# Задайте координаты вершин треугольника\n",
        "x1, y1 = 1.0, 2.0\n",
        "x2, y2 = 3.0, 4.0\n",
        "x3, y3 = 5.0, 1.0\n",
        "\n",
        "# Вычисляем длины сторон треугольника\n",
        "side1 = math.sqrt((x2 - x1) ** 2 + (y2 - y1) ** 2)\n",
        "side2 = math.sqrt((x3 - x2) ** 2 + (y3 - y2) ** 2)\n",
        "side3 = math.sqrt((x1 - x3) ** 2 + (y1 - y3) ** 2)\n",
        "\n",
        "# Вычисляем периметр\n",
        "perimeter = side1 + side2 + side3\n",
        "\n",
        "# Вычисляем полупериметр для вычисления площади\n",
        "s = perimeter / 2\n",
        "\n",
        "# Вычисляем площадь треугольника по формуле Герона\n",
        "area = math.sqrt(s * (s - side1) * (s - side2) * (s - side3))\n",
        "\n",
        "# Выводим результаты\n",
        "print(f\"Периметр треугольника: {perimeter:.2f}\")\n",
        "print(f\"Площадь треугольника: {area:.2f}\")\n"
      ],
      "metadata": {
        "colab": {
          "base_uri": "https://localhost:8080/"
        },
        "id": "Q-AGVbLiefiQ",
        "outputId": "26683268-c416-430b-aed0-de5433dc8773"
      },
      "execution_count": null,
      "outputs": [
        {
          "output_type": "stream",
          "name": "stdout",
          "text": [
            "Периметр треугольника: 10.56\n",
            "Площадь треугольника: 5.00\n"
          ]
        }
      ]
    },
    {
      "cell_type": "markdown",
      "source": [
        "12. Пусть пользователь вводит 5 чисел: а, b, c, d, e. Реализуйте программу расчета выражения вида $res=\\frac{a+bc}{2d-e}+Ost[b^e/c]$, где $Ost$ - остаток от деления. Учесть невозможность деления на 0."
      ],
      "metadata": {
        "id": "QkxwZj9ffWgl"
      }
    },
    {
      "cell_type": "code",
      "source": [
        "a = float(input(\"Введите число a: \"))\n",
        "b = float(input(\"Введите число b: \"))\n",
        "c = float(input(\"Введите число c: \"))\n",
        "d = float(input(\"Введите число d: \"))\n",
        "e = float(input(\"Введите число e: \"))\n",
        "\n",
        "if (2 * d - e) == 0:\n",
        "    print(\"Ошибка: Деление на 0 невозможно.\")\n",
        "else:\n",
        "    chislitel = a + b * c\n",
        "    delitel = 2 * d - e\n",
        "    result = chislitel / delitel\n",
        "\n",
        "    ostatok = (b ** e) % c\n",
        "\n",
        "    print(f\"Результат выражения: {result + ostatok}\")\n",
        "\n"
      ],
      "metadata": {
        "id": "e2QlxsrofZ3m"
      },
      "execution_count": null,
      "outputs": []
    },
    {
      "cell_type": "markdown",
      "source": [
        "1. Введите строку, состоящую из двух цифр. Преобразуйте ее в целое и вещественное число. Выведите полученные три значения (строку, целое число, вещественное число) на экран в одной строке через запятую, затем пропустите строку и вновь выведите значения по одному на строке. Перед каждым значением выведите его тип."
      ],
      "metadata": {
        "id": "HEuEOipbSFjh"
      }
    },
    {
      "cell_type": "code",
      "source": [
        "input_str = input(\"Введите строку из двух цифр: \")\n",
        "\n",
        "integer_num = int(input_str)\n",
        "float_num = float(input_str)\n",
        "\n",
        "print(f\"{input_str}, {integer_num}, {float_num}\")\n",
        "\n",
        "print()\n",
        "\n",
        "print(f\"Тип: {type(input_str)}\")\n",
        "print(f\"Значение: {input_str}\")\n",
        "\n",
        "print()\n",
        "\n",
        "print(f\"Тип: {type(integer_num)}\")\n",
        "print(f\"Значение: {integer_num}\")\n",
        "\n",
        "print()\n",
        "\n",
        "print(f\"Тип: {type(float_num)}\")\n",
        "print(f\"Значение: {float_num}\")\n"
      ],
      "metadata": {
        "colab": {
          "base_uri": "https://localhost:8080/"
        },
        "id": "1RBLwKGzSKZd",
        "outputId": "13ea6cbc-1f57-4c67-d566-76ea4ad2cdbe"
      },
      "execution_count": null,
      "outputs": [
        {
          "output_type": "stream",
          "name": "stdout",
          "text": [
            "Введите строку из двух цифр: 34\n",
            "34, 34, 34.0\n",
            "\n",
            "Тип: <class 'str'>\n",
            "Значение: 34\n",
            "\n",
            "Тип: <class 'int'>\n",
            "Значение: 34\n",
            "\n",
            "Тип: <class 'float'>\n",
            "Значение: 34.0\n"
          ]
        }
      ]
    },
    {
      "cell_type": "markdown",
      "source": [
        "2. Для строки 'Финансовый университет' двумя способами получить подстроку с 1-го по 4-й символы включительно."
      ],
      "metadata": {
        "id": "bTW4yC0GSk2w"
      }
    },
    {
      "cell_type": "code",
      "source": [
        "text = 'Финансовый университет'\n",
        "substring = text[0:4]\n",
        "print(substring)\n"
      ],
      "metadata": {
        "colab": {
          "base_uri": "https://localhost:8080/"
        },
        "id": "sdCG0aXcSvia",
        "outputId": "85b967fa-b6d1-4482-94a0-ef353d3ee435"
      },
      "execution_count": null,
      "outputs": [
        {
          "output_type": "stream",
          "name": "stdout",
          "text": [
            "Фина\n"
          ]
        }
      ]
    },
    {
      "cell_type": "markdown",
      "source": [
        "3. Составить строку из всех четных символов строки 'Финансовый университет'."
      ],
      "metadata": {
        "id": "0kACdZ1PS6BL"
      }
    },
    {
      "cell_type": "markdown",
      "source": [],
      "metadata": {
        "id": "B60Ee1BzTqEF"
      }
    },
    {
      "cell_type": "code",
      "source": [
        "text = 'Финансовый университет'\n",
        "even_characters = text[1::2]\n",
        "print(even_characters)\n"
      ],
      "metadata": {
        "colab": {
          "base_uri": "https://localhost:8080/"
        },
        "id": "lTS1UGvTTEPK",
        "outputId": "805ed5c8-7a4a-4bed-f076-e511b41cc072"
      },
      "execution_count": null,
      "outputs": [
        {
          "output_type": "stream",
          "name": "stdout",
          "text": [
            "иасвйуиестт\n"
          ]
        }
      ]
    },
    {
      "cell_type": "markdown",
      "source": [
        "4. Получить подстроку неизвестной заранее строки, содержащую половину символов строки и расположенную посередине строки."
      ],
      "metadata": {
        "id": "6yC14EEoTMbW"
      }
    },
    {
      "cell_type": "code",
      "source": [
        "text = input('Введите строку: ')\n",
        "\n",
        "length = len(text)\n",
        "\n",
        "start_index = length // 4\n",
        "end_index = length * 3 // 4\n",
        "\n",
        "half_string = text[start_index:end_index]\n",
        "print(half_string)"
      ],
      "metadata": {
        "colab": {
          "base_uri": "https://localhost:8080/"
        },
        "id": "rBROKk-7Teom",
        "outputId": "82fc6a3c-a308-4b8a-b3a5-c88a78a387f2"
      },
      "execution_count": null,
      "outputs": [
        {
          "output_type": "stream",
          "name": "stdout",
          "text": [
            "Введите строку: Неважно\n",
            "еваж\n"
          ]
        }
      ]
    },
    {
      "cell_type": "markdown",
      "source": [
        "5. Коротко записать создание строки 'oneoneoneoneoneonetwotwotwo'"
      ],
      "metadata": {
        "id": "5EjeZpveVIqN"
      }
    },
    {
      "cell_type": "code",
      "source": [
        "result_string = 'one' * 5 + 'two' * 3\n",
        "print(result_string)"
      ],
      "metadata": {
        "colab": {
          "base_uri": "https://localhost:8080/"
        },
        "id": "xEsjFeBbVONf",
        "outputId": "c201727a-dedb-490b-b440-bbbbe9c2ade8"
      },
      "execution_count": null,
      "outputs": [
        {
          "output_type": "stream",
          "name": "stdout",
          "text": [
            "oneoneoneoneonetwotwotwo\n"
          ]
        }
      ]
    },
    {
      "cell_type": "markdown",
      "source": [
        "6. Для введенной строки выведите (на отдельной строке):\n",
        "\n",
        "второй символ этой строки;\n",
        "предпоследний символ этой строки;\n",
        "всю строку, кроме последних двух символов;\n",
        "все символы с четными индексами (считая, что индексация начинается с 0, поэтому символы выводятся, начиная с первого);\n",
        "все символы с нечетными индексами, то есть начиная со второго символа строки;\n",
        "все символы в обратном порядке;\n",
        "все символы строки через один в обратном порядке, начиная с последнего;\n",
        "длину данной строки."
      ],
      "metadata": {
        "id": "Kr0bbh7zVfGi"
      }
    },
    {
      "cell_type": "code",
      "source": [
        "input_string = input(\"Введите строку: \")\n",
        "\n",
        "second_char = input_string[1]\n",
        "print(\"Второй символ:\", second_char)\n",
        "\n",
        "penultimate_char = input_string[-2]\n",
        "print(\"Предпоследний символ:\", penultimate_char)\n",
        "\n",
        "substring_without_last_two = input_string[:-2]\n",
        "print(\"Строка без последних двух символов:\", substring_without_last_two)\n",
        "\n",
        "even_chars = input_string[::2]\n",
        "print(\"Символы с четными индексами:\", even_chars)\n",
        "\n",
        "odd_chars = input_string[1::2]\n",
        "print(\"Символы с нечетными индексами:\", odd_chars)\n",
        "\n",
        "reverse_string = input_string[::-1]\n",
        "print(\"Строка в обратном порядке:\", reverse_string)\n",
        "\n",
        "reverse_every_other = input_string[-1::-2]\n",
        "print(\"Символы через один в обратном порядке, начиная с последнего:\", reverse_every_other)\n",
        "\n",
        "string_length = len(input_string)\n",
        "print(\"Длина строки:\", string_length)\n"
      ],
      "metadata": {
        "colab": {
          "base_uri": "https://localhost:8080/"
        },
        "id": "c7vjJZdhV6r3",
        "outputId": "aa8bb9fd-58a5-4b0b-f956-7d287e96f67f"
      },
      "execution_count": null,
      "outputs": [
        {
          "output_type": "stream",
          "name": "stdout",
          "text": [
            "Введите строку: Неважно\n",
            "Второй символ: е\n",
            "Предпоследний символ: н\n",
            "Строка без последних двух символов: Неваж\n",
            "Символы с четными индексами: Нвжо\n",
            "Символы с нечетными индексами: еан\n",
            "Строка в обратном порядке: онжавеН\n",
            "Символы через один в обратном порядке, начиная с последнего: ожвН\n",
            "Длина строки: 7\n"
          ]
        }
      ]
    },
    {
      "cell_type": "markdown",
      "source": [
        "7. Не используя метод count, для заданной строки выполните:\n",
        "если символ * в данной строке отсутствует, выведите текст «нет символа»;\n",
        "если символ * встречается в строке только один раз, выведите его индекс;\n",
        "если символ * встречается два и более раз, выведите индекс его первого, второго и последнего вхождения, удалите первый и последний символ * из строки."
      ],
      "metadata": {
        "id": "CCJ_-n8BWWA3"
      }
    },
    {
      "cell_type": "code",
      "source": [
        "# Заданная строка\n",
        "s = \"*Нева*жно\"\n",
        "\n",
        "# Проверяем, есть ли символ *\n",
        "if '*' not in s:\n",
        "    print(\"нет символа\")\n",
        "else:\n",
        "    # Находим индекс первого символа *\n",
        "    first_index = s.index('*')\n",
        "\n",
        "    # Проверяем, есть ли еще один символ *\n",
        "    if '*' not in s[first_index + 1:]:\n",
        "        print(f\"Индекс символа *: {first_index}\")\n",
        "    else:\n",
        "        # Находим индекс второго символа *\n",
        "        second_index = s.index('*', first_index + 1)\n",
        "\n",
        "        # Находим индекс последнего символа *\n",
        "        last_index = s.rindex('*')\n",
        "\n",
        "        # Выводим индексы всех символов * и удаляем первый и последний символ *\n",
        "        print(f\"Индексы символов *: {first_index}, {second_index}, {last_index}\")\n",
        "        s = s.replace('*', '', 1)  # Удалить первый символ *\n",
        "        s = s[:last_index] + s[last_index+1:]  # Удалить последний символ *\n",
        "\n",
        "# Выводим строку после изменений\n",
        "print(\"Строка после удаления первого и последнего символа *:\", s)"
      ],
      "metadata": {
        "colab": {
          "base_uri": "https://localhost:8080/"
        },
        "id": "Yty4lSioWuvB",
        "outputId": "a44e9c14-cd9b-42ba-9ddf-818317bdc1de"
      },
      "execution_count": null,
      "outputs": [
        {
          "output_type": "stream",
          "name": "stdout",
          "text": [
            "Индексы символов *: 0, 5, 5\n",
            "Строка после удаления первого и последнего символа *: Нева*но\n"
          ]
        }
      ]
    },
    {
      "cell_type": "markdown",
      "source": [
        "8. Дана строка, состоящая из слов, разделенных пробелами. В этой строке:\n",
        "удалите все лишние пробелы (в начале, в конце, между словами оставить ровно один пробел);\n",
        "поменяйте регистр символов (строчные сделать прописными, прописные – строчными);\n",
        "определите, сколько в ней слов."
      ],
      "metadata": {
        "id": "eYEBqai8YwoE"
      }
    },
    {
      "cell_type": "code",
      "source": [
        "input_string = input(\"Введите строку из слов: \")\n",
        "\n",
        "cleaned_string = ' '.join(input_string.split()).swapcase()\n",
        "\n",
        "word_count = len(cleaned_string.split())\n",
        "\n",
        "print(\"Строка после удаления лишних пробелов и смены регистра:\", cleaned_string)\n",
        "print(\"Количество слов в строке:\", word_count)\n"
      ],
      "metadata": {
        "colab": {
          "base_uri": "https://localhost:8080/"
        },
        "id": "EI-UVJO0ZD2-",
        "outputId": "8f740e6a-ae9b-407e-8d75-9a554eee7c7b"
      },
      "execution_count": null,
      "outputs": [
        {
          "output_type": "stream",
          "name": "stdout",
          "text": [
            "Введите строку из слов: hgvhgv jhgugyi uhhouyvuyg  \n",
            "Строка после удаления лишних пробелов и смены регистра: HGVHGV JHGUGYI UHHOUYVUYG\n",
            "Количество слов в строке: 3\n"
          ]
        }
      ]
    },
    {
      "cell_type": "markdown",
      "source": [
        "9. трока содержит фамилию, имя и отчество, записанные через пробелы. Например «Иванов Иван Иванович». Для этой строки:\n",
        "- выведите информацию в виде:\n",
        "```\n",
        "Фамилия       Иванов\n",
        "Имя           Иван\n",
        "Отчество      Иванович\n",
        "```\n",
        "- получите строки вида «Иванов И.И.» и «И.И. Иванов»."
      ],
      "metadata": {
        "id": "eNg-yMTmZwAt"
      }
    },
    {
      "cell_type": "code",
      "source": [
        "input_string = input(\"Введите ФИО: \")\n",
        "\n",
        "parts = input_string.split()\n",
        "\n",
        "if len(parts) == 3:\n",
        "    фамилия, имя, отчество = parts\n",
        "\n",
        "    print(f\"Фамилия: {фамилия}\")\n",
        "    print(f\"Имя: {имя}\")\n",
        "    print(f\"Отчество: {отчество}\")\n",
        "else:\n",
        "    print(\"Некорректный ввод. Введите строку, содержащую фамилию, имя и отчество, разделенные пробелами.\")\n",
        "\n",
        "\n",
        "\n"
      ],
      "metadata": {
        "colab": {
          "base_uri": "https://localhost:8080/"
        },
        "id": "js15zD6FaBIJ",
        "outputId": "34860ef9-5289-45af-fd54-4e90942378c7"
      },
      "execution_count": null,
      "outputs": [
        {
          "output_type": "stream",
          "name": "stdout",
          "text": [
            "Введите строку с фамилией, именем и отчеством: Орехов Вадим Владимирович\n",
            "Фамилия: Орехов\n",
            "Имя: Вадим\n",
            "Отчество: Владимирович\n"
          ]
        }
      ]
    },
    {
      "cell_type": "markdown",
      "source": [
        "10. Напишите программу, которая осуществляет вывод кошки на экран. Примечание: кошка выглядят примерно так:\n",
        "```\n",
        "         /\\_/\\\n",
        "         /@ @\\\n",
        "        (~~0~~)\n",
        "\n",
        " ```"
      ],
      "metadata": {
        "id": "6HdQXE7RgDn9"
      }
    },
    {
      "cell_type": "code",
      "source": [
        "print(\"   /\\_/\\ \")\n",
        "print(\"   /@ @\\ \")\n",
        "print(\"  (~~0~~) \")\n"
      ],
      "metadata": {
        "colab": {
          "base_uri": "https://localhost:8080/"
        },
        "id": "jEkz_NtmgLTb",
        "outputId": "8d581516-2396-4775-b37a-d6e6bad3e212"
      },
      "execution_count": null,
      "outputs": [
        {
          "output_type": "stream",
          "name": "stdout",
          "text": [
            "   /\\_/\\ \n",
            "   /@ @\\ \n",
            "  (~~0~~) \n"
          ]
        }
      ]
    },
    {
      "cell_type": "markdown",
      "source": [
        "11. Для двух произвольных строк провести сравнение на совпадение содержимого без учета регистра букв и начальных и конечных пробельных символов. Например, для двух строк ' HeLLO WOrlD' и 'hello WORLD ' такое сравнение должно возвращать True (содержание строк совпадает)."
      ],
      "metadata": {
        "id": "xzp1376FhIgp"
      }
    },
    {
      "cell_type": "code",
      "source": [
        "string1 = input(\"Введите первую строку: \")\n",
        "string2 = input(\"Введите вторую строку: \")\n",
        "\n",
        "cleaned_string1 = string1.strip().lower()\n",
        "cleaned_string2 = string2.strip().lower()\n",
        "\n",
        "if cleaned_string1 == cleaned_string2:\n",
        "    print(\"Содержание строк совпадает (без учета регистра и пробелов).\")\n",
        "    result = True\n",
        "else:\n",
        "    print(\"Содержание строк не совпадает.\")\n",
        "    result = False\n",
        "\n",
        "print(\"Результат сравнения:\", result)\n"
      ],
      "metadata": {
        "id": "rGV033Z_hpz8",
        "colab": {
          "base_uri": "https://localhost:8080/"
        },
        "outputId": "5ab85328-6e6a-4769-c37e-aa46e2a84560"
      },
      "execution_count": null,
      "outputs": [
        {
          "output_type": "stream",
          "name": "stdout",
          "text": [
            "Введите первую строку: QwErtY\n",
            "Введите вторую строку: qWerTY\n",
            "Содержание строк совпадает (без учета регистра и пробелов).\n",
            "Результат сравнения: True\n"
          ]
        }
      ]
    },
    {
      "cell_type": "markdown",
      "source": [
        "12. По номеру года определите, является ли данный год високосным. (год является високосным, если его номер кратен 4, но не кратен 100, а также если он кратен 400)."
      ],
      "metadata": {
        "id": "o7nRtGegh6ga"
      }
    },
    {
      "cell_type": "code",
      "source": [
        "num_year = int(input(\"Введите номер год: \"))\n",
        "\n",
        "if (num_year % 4 == 0 and num_year % 100 !=0) or (num_year % 400 == 0):\n",
        "  print(f\"{num_year} - високосный\")\n",
        "\n",
        "else:\n",
        "  print(f\"{num_year} - не високосный\")"
      ],
      "metadata": {
        "colab": {
          "base_uri": "https://localhost:8080/"
        },
        "id": "K99gGQeSiBRG",
        "outputId": "5dab28fe-de3e-4ff2-abf8-1d7f47c6137a"
      },
      "execution_count": null,
      "outputs": [
        {
          "output_type": "stream",
          "name": "stdout",
          "text": [
            "Введите номер год: 2020\n",
            "2020 - високосный\n"
          ]
        }
      ]
    },
    {
      "cell_type": "markdown",
      "source": [
        "13. Даны точки  A=(1,1),B=(5,5),C=(1,4),D=(7,2) . Найти точку пересечения отрезков  AB  и  CD ."
      ],
      "metadata": {
        "id": "l944CMAok6Mm"
      }
    },
    {
      "cell_type": "code",
      "source": [
        "def find_intersection(A, B, C, D):\n",
        "    x1, y1 = A\n",
        "    x2, y2 = B\n",
        "    x3, y3 = C\n",
        "    x4, y4 = D\n",
        "\n",
        "    # Вычисляем параметры для уравнений прямых, содержащих отрезки AB и CD\n",
        "    A1 = y2 - y1\n",
        "    B1 = x1 - x2\n",
        "    C1 = A1 * x1 + B1 * y1\n",
        "\n",
        "    A2 = y4 - y3\n",
        "    B2 = x3 - x4\n",
        "    C2 = A2 * x3 + B2 * y3\n",
        "\n",
        "    # Вычисляем определитель\n",
        "    determinant = A1 * B2 - A2 * B1\n",
        "\n",
        "    # Если определитель равен нулю, отрезки параллельны или совпадают\n",
        "    if determinant == 0:\n",
        "        return None\n",
        "\n",
        "    # Находим координаты точки пересечения\n",
        "    x = (B2 * C1 - B1 * C2) / determinant\n",
        "    y = (A1 * C2 - A2 * C1) / determinant\n",
        "\n",
        "    # Проверяем, лежит ли точка пересечения на обоих отрезках\n",
        "    if min(x1, x2) <= x <= max(x1, x2) and min(y1, y2) <= y <= max(y1, y2) and \\\n",
        "       min(x3, x4) <= x <= max(x3, x4) and min(y3, y4) <= y <= max(y3, y4):\n",
        "        return (x, y)\n",
        "    else:\n",
        "        return None\n",
        "\n",
        "# Заданные точки\n",
        "A = (1, 1)\n",
        "B = (5, 5)\n",
        "C = (1, 4)\n",
        "D = (7, 2)\n",
        "\n",
        "# Находим точку пересечения\n",
        "intersection = find_intersection(A, B, C, D)\n",
        "\n",
        "# Выводим результат\n",
        "if intersection:\n",
        "    print(f\"Точка пересечения: {intersection}\")\n",
        "else:\n",
        "    print(\"Отрезки не пересекаются.\")\n"
      ],
      "metadata": {
        "colab": {
          "base_uri": "https://localhost:8080/"
        },
        "id": "c_kJrEd9lWhn",
        "outputId": "bb796580-1c1e-499c-b7a5-f5a5bfbc2c5b"
      },
      "execution_count": null,
      "outputs": [
        {
          "output_type": "stream",
          "name": "stdout",
          "text": [
            "Точка пересечения: (3.25, 3.25)\n"
          ]
        }
      ]
    }
  ],
  "metadata": {
    "kernelspec": {
      "display_name": "Python 3 (ipykernel)",
      "language": "python",
      "name": "python3"
    },
    "language_info": {
      "codemirror_mode": {
        "name": "ipython",
        "version": 3
      },
      "file_extension": ".py",
      "mimetype": "text/x-python",
      "name": "python",
      "nbconvert_exporter": "python",
      "pygments_lexer": "ipython3",
      "version": "3.9.7"
    },
    "toc": {
      "base_numbering": 1,
      "nav_menu": {},
      "number_sections": true,
      "sideBar": true,
      "skip_h1_title": false,
      "title_cell": "Table of Contents",
      "title_sidebar": "Contents",
      "toc_cell": true,
      "toc_position": {},
      "toc_section_display": true,
      "toc_window_display": false
    },
    "varInspector": {
      "cols": {
        "lenName": 16,
        "lenType": 16,
        "lenVar": 40
      },
      "kernels_config": {
        "python": {
          "delete_cmd_postfix": "",
          "delete_cmd_prefix": "del ",
          "library": "var_list.py",
          "varRefreshCmd": "print(var_dic_list())"
        },
        "r": {
          "delete_cmd_postfix": ") ",
          "delete_cmd_prefix": "rm(",
          "library": "var_list.r",
          "varRefreshCmd": "cat(var_dic_list()) "
        }
      },
      "types_to_exclude": [
        "module",
        "function",
        "builtin_function_or_method",
        "instance",
        "_Feature"
      ],
      "window_display": false
    },
    "colab": {
      "provenance": [],
      "include_colab_link": true
    }
  },
  "nbformat": 4,
  "nbformat_minor": 0
}